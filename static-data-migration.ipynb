{
 "cells": [
  {
   "cell_type": "markdown",
   "id": "a2c0bfe1",
   "metadata": {},
   "source": [
    "**Load S&P 500 ETFs (SPY) Historical Data**"
   ]
  },
  {
   "cell_type": "code",
   "execution_count": 6,
   "id": "91595f9f",
   "metadata": {},
   "outputs": [
    {
     "name": "stdout",
     "output_type": "stream",
     "text": [
      "         Date  Close/Last    Volume    Open    High     Low ticker\n",
      "0  11/06/2024      591.04  68181970  589.20  591.93  585.39    SPY\n",
      "1  11/05/2024      576.70  39478320  570.74  576.74  570.52    SPY\n",
      "2  11/04/2024      569.81  38216980  571.18  572.50  567.89    SPY\n",
      "3  11/01/2024      571.04  45667530  571.32  575.55  570.62    SPY\n",
      "4  10/31/2024      568.64  60182450  575.56  575.63  568.44    SPY\n",
      "<class 'pandas.core.frame.DataFrame'>\n",
      "RangeIndex: 2516 entries, 0 to 2515\n",
      "Data columns (total 7 columns):\n",
      " #   Column      Non-Null Count  Dtype  \n",
      "---  ------      --------------  -----  \n",
      " 0   Date        2516 non-null   object \n",
      " 1   Close/Last  2516 non-null   float64\n",
      " 2   Volume      2516 non-null   int64  \n",
      " 3   Open        2516 non-null   float64\n",
      " 4   High        2516 non-null   float64\n",
      " 5   Low         2516 non-null   float64\n",
      " 6   ticker      2516 non-null   object \n",
      "dtypes: float64(4), int64(1), object(2)\n",
      "memory usage: 137.7+ KB\n",
      "None\n",
      "        Close/Last        Volume         Open         High          Low\n",
      "count  2516.000000  2.516000e+03  2516.000000  2516.000000  2516.000000\n",
      "mean    329.270135  8.827950e+07   329.216912   331.009163   327.275291\n",
      "std     104.141594  4.517394e+07   104.129609   104.663961   103.523299\n",
      "min     182.860000  2.027001e+07   182.340000   184.100000   181.020000\n",
      "25%     238.767500  5.952768e+07   238.837500   239.560000   237.802500\n",
      "50%     296.355000  7.692657e+07   296.475000   297.919250   294.395000\n",
      "75%     415.742500  1.026850e+08   415.635000   417.679525   412.955000\n",
      "max     591.040000  5.062578e+08   589.200000   591.930000   585.390000\n"
     ]
    }
   ],
   "source": [
    "import pandas as pd\n",
    "\n",
    "# load csv file as DataFrame\n",
    "csv_file_path = \"datasets/HistoricalData_SPY.csv\"\n",
    "df = pd.read_csv(csv_file_path)\n",
    "\n",
    "# add a new column 'ticker' for identification\n",
    "df['ticker'] = 'SPY'\n",
    "\n",
    "# reveiw the data\n",
    "print(df.head())\n",
    "print(df.info())\n",
    "print(df.describe())\n"
   ]
  },
  {
   "cell_type": "code",
   "execution_count": 8,
   "id": "c285c681",
   "metadata": {},
   "outputs": [
    {
     "name": "stdout",
     "output_type": "stream",
     "text": [
      "Date          0\n",
      "Close/Last    0\n",
      "Volume        0\n",
      "Open          0\n",
      "High          0\n",
      "Low           0\n",
      "ticker        0\n",
      "dtype: int64\n"
     ]
    }
   ],
   "source": [
    "# print sum of missing values in each column\n",
    "print(df.isna().sum())"
   ]
  },
  {
   "cell_type": "markdown",
   "id": "3b66d49d",
   "metadata": {},
   "source": [
    "**Inject data to MongoDB**"
   ]
  },
  {
   "cell_type": "code",
   "execution_count": 12,
   "id": "2393b941",
   "metadata": {},
   "outputs": [],
   "source": [
    "import os\n",
    "from dotenv import load_dotenv\n",
    "\n",
    "# Load environment variables\n",
    "load_dotenv()\n",
    "MONGO_URI = os.getenv(\"MONGO_URI\")"
   ]
  },
  {
   "cell_type": "code",
   "execution_count": 13,
   "id": "eb067de9",
   "metadata": {},
   "outputs": [],
   "source": [
    "from pymongo import MongoClient\n",
    "\n",
    "# Connect to MongoDB\n",
    "client = MongoClient(MONGO_URI)\n",
    "db = client[\"robo_advisor\"]  # Use the \"robo_advisor\" database\n",
    "collection = db[\"market_data\"]  # Use the \"market_data\" collection"
   ]
  },
  {
   "cell_type": "code",
   "execution_count": 14,
   "id": "a8719474-a655-4a73-bc4a-ba823c67aa13",
   "metadata": {},
   "outputs": [
    {
     "name": "stdout",
     "output_type": "stream",
     "text": [
      "SPY data successfully inserted into the 'market_data' collection.\n"
     ]
    }
   ],
   "source": [
    "# Insert data into MongoDB\n",
    "data_dict = df.to_dict(\"records\")  # Convert DataFrame to list of dictionaries\n",
    "collection.insert_many(data_dict)  # Insert into the \"market_data\" collection\n",
    "\n",
    "print(\"SPY data successfully inserted into the 'market_data' collection.\")"
   ]
  },
  {
   "cell_type": "markdown",
   "id": "59017ad2",
   "metadata": {},
   "source": [
    "**Load NASDAQ-100 ETFs (QQQ) Historical Data**"
   ]
  },
  {
   "cell_type": "code",
   "execution_count": null,
   "id": "76af95d5",
   "metadata": {},
   "outputs": [
    {
     "name": "stdout",
     "output_type": "stream",
     "text": [
      "         Date  Close/Last    Volume    Open      High       Low ticker\n",
      "0  11/06/2024      505.58  43082200  500.56  506.4100  499.6000    QQQ\n",
      "1  11/05/2024      492.21  24353620  487.61  492.8800  487.5200    QQQ\n",
      "2  11/04/2024      486.01  23291580  486.82  489.3800  484.2545    QQQ\n",
      "3  11/01/2024      487.43  33655760  485.50  490.7507  485.2000    QQQ\n",
      "4  10/31/2024      483.85  41245250  492.38  492.4300  483.7500    QQQ\n",
      "<class 'pandas.core.frame.DataFrame'>\n",
      "RangeIndex: 2516 entries, 0 to 2515\n",
      "Data columns (total 7 columns):\n",
      " #   Column      Non-Null Count  Dtype  \n",
      "---  ------      --------------  -----  \n",
      " 0   Date        2516 non-null   object \n",
      " 1   Close/Last  2516 non-null   float64\n",
      " 2   Volume      2516 non-null   int64  \n",
      " 3   Open        2516 non-null   float64\n",
      " 4   High        2516 non-null   float64\n",
      " 5   Low         2516 non-null   float64\n",
      " 6   ticker      2516 non-null   object \n",
      "dtypes: float64(4), int64(1), object(2)\n",
      "memory usage: 137.7+ KB\n",
      "None\n",
      "        Close/Last        Volume         Open         High          Low\n",
      "count  2516.000000  2.516000e+03  2516.000000  2516.000000  2516.000000\n",
      "mean    238.025501  4.132235e+07   237.975038   239.715122   236.087650\n",
      "std     113.504244  2.199103e+07   113.515176   114.345917   112.568369\n",
      "min      96.320000  7.052539e+06    94.230000    97.050000    84.740000\n",
      "25%     137.387500  2.543229e+07   137.320000   137.810000   136.515000\n",
      "50%     193.540000  3.618849e+07   193.600000   194.510000   192.515000\n",
      "75%     331.027500  5.177420e+07   330.752500   333.157500   327.085000\n",
      "max     505.580000  1.994481e+08   503.070000   506.410000   499.600000\n"
     ]
    }
   ],
   "source": [
    "# load csv file as DataFrame\n",
    "csv_file_path = \"datasets/HistoricalData_QQQ.csv\"\n",
    "df = pd.read_csv(csv_file_path)\n",
    "\n",
    "# add a new column 'ticker' for identification\n",
    "df['ticker'] = 'QQQ'\n",
    "\n",
    "# reveiw the data\n",
    "print(df.head())\n",
    "print(df.info())\n",
    "print(df.describe())"
   ]
  },
  {
   "cell_type": "code",
   "execution_count": 17,
   "id": "5896e2be",
   "metadata": {},
   "outputs": [
    {
     "name": "stdout",
     "output_type": "stream",
     "text": [
      "QQQ data successfully inserted into the 'market_data' collection.\n"
     ]
    }
   ],
   "source": [
    "# Insert data into MongoDB\n",
    "data_dict = df.to_dict(\"records\")  # Convert DataFrame to list of dictionaries\n",
    "collection.insert_many(data_dict)  # Insert into the \"market_data\" collection\n",
    "\n",
    "print(\"QQQ data successfully inserted into the 'market_data' collection.\")"
   ]
  },
  {
   "cell_type": "markdown",
   "id": "46d42d49",
   "metadata": {},
   "source": [
    "**Load Canadian Bond ETF (XBB) Historical Data**"
   ]
  },
  {
   "cell_type": "code",
   "execution_count": 18,
   "id": "d6173473",
   "metadata": {},
   "outputs": [
    {
     "name": "stdout",
     "output_type": "stream",
     "text": [
      "         Date  Close/Last  Volume   Open   High      Low ticker\n",
      "0  11/06/2024     40.4349  3250.0  40.28  40.52  40.2800    XBB\n",
      "1  11/05/2024     40.4900  1844.0  40.34  40.49  40.3400    XBB\n",
      "2  11/04/2024     40.2134  1071.0  40.31  40.31  40.2134    XBB\n",
      "3  11/01/2024     40.2079   586.0  40.22  40.26  40.2079    XBB\n",
      "4  10/31/2024     40.5300  7105.0  40.33  40.58  40.3300    XBB\n",
      "<class 'pandas.core.frame.DataFrame'>\n",
      "RangeIndex: 616 entries, 0 to 615\n",
      "Data columns (total 7 columns):\n",
      " #   Column      Non-Null Count  Dtype  \n",
      "---  ------      --------------  -----  \n",
      " 0   Date        616 non-null    object \n",
      " 1   Close/Last  616 non-null    float64\n",
      " 2   Volume      607 non-null    float64\n",
      " 3   Open        616 non-null    float64\n",
      " 4   High        616 non-null    float64\n",
      " 5   Low         616 non-null    float64\n",
      " 6   ticker      616 non-null    object \n",
      "dtypes: float64(5), object(2)\n",
      "memory usage: 33.8+ KB\n",
      "None\n",
      "       Close/Last         Volume        Open        High         Low\n",
      "count  616.000000     607.000000  616.000000  616.000000  616.000000\n",
      "mean    39.436835    4091.359143   39.439754   39.486186   39.387752\n",
      "std      0.889370   33830.655293    0.891129    0.893848    0.881798\n",
      "min     37.281400       1.000000   37.300000   37.339800   37.281400\n",
      "25%     38.803275     200.000000   38.817600   38.820000   38.785900\n",
      "50%     39.428000     526.000000   39.418300   39.465000   39.362500\n",
      "75%     40.057000    1403.000000   40.059925   40.115800   39.996250\n",
      "max     41.655000  783688.000000   41.690000   41.690000   41.655000\n"
     ]
    }
   ],
   "source": [
    "# load csv file as DataFrame\n",
    "csv_file_path = \"datasets/HistoricalData_XBB.csv\"\n",
    "df = pd.read_csv(csv_file_path)\n",
    "\n",
    "# add a new column 'ticker' for identification\n",
    "df['ticker'] = 'XBB'\n",
    "\n",
    "# reveiw the data\n",
    "print(df.head())\n",
    "print(df.info())\n",
    "print(df.describe())"
   ]
  },
  {
   "cell_type": "code",
   "execution_count": 19,
   "id": "bb7a6362",
   "metadata": {},
   "outputs": [
    {
     "name": "stdout",
     "output_type": "stream",
     "text": [
      "XBB data successfully inserted into the 'market_data' collection.\n"
     ]
    }
   ],
   "source": [
    "# Insert data into MongoDB\n",
    "data_dict = df.to_dict(\"records\")  # Convert DataFrame to list of dictionaries\n",
    "collection.insert_many(data_dict)  # Insert into the \"market_data\" collection\n",
    "\n",
    "print(\"XBB data successfully inserted into the 'market_data' collection.\")"
   ]
  }
 ],
 "metadata": {
  "kernelspec": {
   "display_name": "Python 3",
   "language": "python",
   "name": "python3"
  },
  "language_info": {
   "codemirror_mode": {
    "name": "ipython",
    "version": 3
   },
   "file_extension": ".py",
   "mimetype": "text/x-python",
   "name": "python",
   "nbconvert_exporter": "python",
   "pygments_lexer": "ipython3",
   "version": "3.12.7"
  }
 },
 "nbformat": 4,
 "nbformat_minor": 5
}
