{
 "cells": [
  {
   "cell_type": "code",
   "execution_count": 1,
   "id": "2fac7d82-4508-4a9c-85ca-69378f50acf7",
   "metadata": {},
   "outputs": [
    {
     "name": "stdout",
     "output_type": "stream",
     "text": [
      "Welcome to the Risk Assessment and Investment Planner!\n",
      "Welcome to the 5-Question Risk Assessment!\n",
      "Answer the following questions to determine your risk tolerance.\n",
      "\n",
      "1. Which of these statements best describes your investing style?\n",
      "1. I want to avoid losses when I invest. To keep my money safe, I am prepared to see my savings grow more slowly.\n",
      "2. I am comfortable with moderate risk and am willing to accept some short-term losses for better long-term growth.\n",
      "3. I am comfortable taking on high risks for the potential of higher long-term rewards, even if it means significant short-term losses.\n"
     ]
    },
    {
     "name": "stdin",
     "output_type": "stream",
     "text": [
      "Enter the number corresponding to your choice (1, 2, or 3):  2\n"
     ]
    },
    {
     "name": "stdout",
     "output_type": "stream",
     "text": [
      "\n",
      "2. How would you react if your investments lost 20% of their value?\n",
      "1. I would sell my investments to avoid further losses.\n",
      "2. I would hold on and wait for the market to recover.\n",
      "3. I would buy more investments to take advantage of the lower prices.\n"
     ]
    },
    {
     "name": "stdin",
     "output_type": "stream",
     "text": [
      "Enter the number corresponding to your choice (1, 2, or 3):  3\n"
     ]
    },
    {
     "name": "stdout",
     "output_type": "stream",
     "text": [
      "\n",
      "3. How long are you willing to keep your money invested?\n",
      "1. Less than 1 year – I may need my money soon.\n",
      "2. 1–5 years – I can wait for moderate growth.\n",
      "3. 5+ years – I am focused on long-term growth.\n"
     ]
    },
    {
     "name": "stdin",
     "output_type": "stream",
     "text": [
      "Enter the number corresponding to your choice (1, 2, or 3):  3\n"
     ]
    },
    {
     "name": "stdout",
     "output_type": "stream",
     "text": [
      "\n",
      "4. What is your primary goal for investing?\n",
      "1. Preserving my capital – I don’t want to lose money.\n",
      "2. Balancing safety and growth – I want some growth but with manageable risk.\n",
      "3. Maximizing growth – I am okay with risks to achieve higher returns.\n"
     ]
    },
    {
     "name": "stdin",
     "output_type": "stream",
     "text": [
      "Enter the number corresponding to your choice (1, 2, or 3):  2\n"
     ]
    },
    {
     "name": "stdout",
     "output_type": "stream",
     "text": [
      "\n",
      "5. How comfortable are you with taking risks in your investments?\n",
      "1. I prefer no risks – I want stable, predictable outcomes.\n",
      "2. I am okay with some risks for the chance of better returns.\n",
      "3. I am very comfortable with risks if it means potentially higher returns.\n"
     ]
    },
    {
     "name": "stdin",
     "output_type": "stream",
     "text": [
      "Enter the number corresponding to your choice (1, 2, or 3):  2\n"
     ]
    },
    {
     "name": "stdout",
     "output_type": "stream",
     "text": [
      "\n",
      "Your risk tolerance category is: MEDIUM\n"
     ]
    },
    {
     "name": "stdin",
     "output_type": "stream",
     "text": [
      "How much would you like to invest as your initial capital? (in dollars):  10,000\n"
     ]
    },
    {
     "name": "stdout",
     "output_type": "stream",
     "text": [
      "could not convert string to float: '10,000'\n"
     ]
    },
    {
     "name": "stdin",
     "output_type": "stream",
     "text": [
      "How much would you like to invest as your initial capital? (in dollars):  10000\n"
     ]
    },
    {
     "name": "stdout",
     "output_type": "stream",
     "text": [
      "\n",
      "Summary:\n",
      "Risk Category: MEDIUM\n",
      "Initial Capital: $10,000.00\n"
     ]
    }
   ],
   "source": [
    "def risk_assessment():\n",
    "    \"\"\"\n",
    "    Conducts a 5-question risk assessment and categorizes the user into LOW, MEDIUM, or HIGH risk.\n",
    "    Then asks for the initial capital.\n",
    "\n",
    "    Returns:\n",
    "        tuple: Risk category (LOW, MEDIUM, HIGH) and initial capital (float).\n",
    "    \"\"\"\n",
    "    print(\"Welcome to the 5-Question Risk Assessment!\")\n",
    "    print(\"Answer the following questions to determine your risk tolerance.\\n\")\n",
    "\n",
    "    # Define questions and options\n",
    "    questions = [\n",
    "        {\n",
    "            \"question\": \"1. Which of these statements best describes your investing style?\",\n",
    "            \"options\": [\n",
    "                \"1. I want to avoid losses when I invest. To keep my money safe, I am prepared to see my savings grow more slowly.\",\n",
    "                \"2. I am comfortable with moderate risk and am willing to accept some short-term losses for better long-term growth.\",\n",
    "                \"3. I am comfortable taking on high risks for the potential of higher long-term rewards, even if it means significant short-term losses.\",\n",
    "            ],\n",
    "        },\n",
    "        {\n",
    "            \"question\": \"2. How would you react if your investments lost 20% of their value?\",\n",
    "            \"options\": [\n",
    "                \"1. I would sell my investments to avoid further losses.\",\n",
    "                \"2. I would hold on and wait for the market to recover.\",\n",
    "                \"3. I would buy more investments to take advantage of the lower prices.\",\n",
    "            ],\n",
    "        },\n",
    "        {\n",
    "            \"question\": \"3. How long are you willing to keep your money invested?\",\n",
    "            \"options\": [\n",
    "                \"1. Less than 1 year – I may need my money soon.\",\n",
    "                \"2. 1–5 years – I can wait for moderate growth.\",\n",
    "                \"3. 5+ years – I am focused on long-term growth.\",\n",
    "            ],\n",
    "        },\n",
    "        {\n",
    "            \"question\": \"4. What is your primary goal for investing?\",\n",
    "            \"options\": [\n",
    "                \"1. Preserving my capital – I don’t want to lose money.\",\n",
    "                \"2. Balancing safety and growth – I want some growth but with manageable risk.\",\n",
    "                \"3. Maximizing growth – I am okay with risks to achieve higher returns.\",\n",
    "            ],\n",
    "        },\n",
    "        {\n",
    "            \"question\": \"5. How comfortable are you with taking risks in your investments?\",\n",
    "            \"options\": [\n",
    "                \"1. I prefer no risks – I want stable, predictable outcomes.\",\n",
    "                \"2. I am okay with some risks for the chance of better returns.\",\n",
    "                \"3. I am very comfortable with risks if it means potentially higher returns.\",\n",
    "            ],\n",
    "        },\n",
    "    ]\n",
    "\n",
    "    # Initialize risk score\n",
    "    risk_score = 0\n",
    "\n",
    "    # Loop through questions and get user input\n",
    "    for q in questions:\n",
    "        print(q[\"question\"])\n",
    "        for option in q[\"options\"]:\n",
    "            print(option)\n",
    "\n",
    "        # Validate user input\n",
    "        while True:\n",
    "            try:\n",
    "                answer = int(input(\"Enter the number corresponding to your choice (1, 2, or 3): \"))\n",
    "                if answer not in [1, 2, 3]:\n",
    "                    raise ValueError(\"Invalid choice. Please select 1, 2, or 3.\")\n",
    "                break\n",
    "            except ValueError as e:\n",
    "                print(e)\n",
    "\n",
    "        # Add to risk score (1 for LOW, 2 for MEDIUM, 3 for HIGH)\n",
    "        risk_score += answer\n",
    "\n",
    "        print()  # Print a blank line for spacing\n",
    "\n",
    "    # Determine risk category\n",
    "    if risk_score <= 7:  # Mostly 1s\n",
    "        risk_category = \"LOW\"\n",
    "    elif risk_score <= 12:  # Mix of 2s and 1s\n",
    "        risk_category = \"MEDIUM\"\n",
    "    else:  # Mostly 3s\n",
    "        risk_category = \"HIGH\"\n",
    "\n",
    "    # Display risk category\n",
    "    print(f\"Your risk tolerance category is: {risk_category}\")\n",
    "\n",
    "    # Ask for initial capital\n",
    "    while True:\n",
    "        try:\n",
    "            initial_capital = float(input(\"How much would you like to invest as your initial capital? (in dollars): \"))\n",
    "            if initial_capital <= 0:\n",
    "                raise ValueError(\"Investment amount must be greater than 0.\")\n",
    "            break\n",
    "        except ValueError as e:\n",
    "            print(e)\n",
    "\n",
    "    return risk_category, initial_capital\n",
    "\n",
    "\n",
    "# Main script\n",
    "if __name__ == \"__main__\":\n",
    "    print(\"Welcome to the Risk Assessment and Investment Planner!\")\n",
    "    risk_category, initial_capital = risk_assessment()\n",
    "    print(f\"\\nSummary:\")\n",
    "    print(f\"Risk Category: {risk_category}\")\n",
    "    print(f\"Initial Capital: ${initial_capital:,.2f}\")\n"
   ]
  },
  {
   "cell_type": "code",
   "execution_count": null,
   "id": "44de4c6e-7df3-465d-aa23-0308a51f4593",
   "metadata": {},
   "outputs": [],
   "source": []
  }
 ],
 "metadata": {
  "kernelspec": {
   "display_name": "Python 3 (ipykernel)",
   "language": "python",
   "name": "python3"
  },
  "language_info": {
   "codemirror_mode": {
    "name": "ipython",
    "version": 3
   },
   "file_extension": ".py",
   "mimetype": "text/x-python",
   "name": "python",
   "nbconvert_exporter": "python",
   "pygments_lexer": "ipython3",
   "version": "3.13.0"
  }
 },
 "nbformat": 4,
 "nbformat_minor": 5
}
