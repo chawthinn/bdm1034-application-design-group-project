{
 "cells": [
  {
   "cell_type": "code",
   "execution_count": null,
   "id": "133431e7",
   "metadata": {},
   "outputs": [],
   "source": [
    "API_KEY = ''"
   ]
  },
  {
   "cell_type": "code",
   "execution_count": 6,
   "id": "e66ca0ff",
   "metadata": {},
   "outputs": [
    {
     "name": "stdout",
     "output_type": "stream",
     "text": [
      "Requirement already satisfied: FundamentalAnalysis in /Users/yangbo/anaconda3/lib/python3.11/site-packages (0.3.1)\n",
      "Requirement already satisfied: financedatabase<3.0.0,>=2.2.0 in /Users/yangbo/anaconda3/lib/python3.11/site-packages (from FundamentalAnalysis) (2.2.2)\n",
      "Requirement already satisfied: financetoolkit<2.0.0,>=1.3.5 in /Users/yangbo/anaconda3/lib/python3.11/site-packages (from FundamentalAnalysis) (1.9.8)\n",
      "Requirement already satisfied: pandas<3.0.0,>=2.1.0 in /Users/yangbo/anaconda3/lib/python3.11/site-packages (from pandas[computation,performance,plot]<3.0.0,>=2.1.0->FundamentalAnalysis) (2.2.2)\n",
      "Requirement already satisfied: requests<3.0.0,>=2.32.3 in /Users/yangbo/anaconda3/lib/python3.11/site-packages (from financetoolkit<2.0.0,>=1.3.5->FundamentalAnalysis) (2.32.3)\n",
      "Requirement already satisfied: scikit-learn<2.0,>=1.5 in /Users/yangbo/anaconda3/lib/python3.11/site-packages (from financetoolkit<2.0.0,>=1.3.5->FundamentalAnalysis) (1.5.2)\n",
      "Requirement already satisfied: numpy>=1.23.2 in /Users/yangbo/anaconda3/lib/python3.11/site-packages (from pandas<3.0.0,>=2.1.0->pandas[computation,performance,plot]<3.0.0,>=2.1.0->FundamentalAnalysis) (1.26.4)\n",
      "Requirement already satisfied: python-dateutil>=2.8.2 in /Users/yangbo/anaconda3/lib/python3.11/site-packages (from pandas<3.0.0,>=2.1.0->pandas[computation,performance,plot]<3.0.0,>=2.1.0->FundamentalAnalysis) (2.9.0.post0)\n",
      "Requirement already satisfied: pytz>=2020.1 in /Users/yangbo/anaconda3/lib/python3.11/site-packages (from pandas<3.0.0,>=2.1.0->pandas[computation,performance,plot]<3.0.0,>=2.1.0->FundamentalAnalysis) (2024.1)\n",
      "Requirement already satisfied: tzdata>=2022.7 in /Users/yangbo/anaconda3/lib/python3.11/site-packages (from pandas<3.0.0,>=2.1.0->pandas[computation,performance,plot]<3.0.0,>=2.1.0->FundamentalAnalysis) (2023.3)\n",
      "Requirement already satisfied: bottleneck>=1.3.6 in /Users/yangbo/anaconda3/lib/python3.11/site-packages (from pandas[computation,performance,plot]<3.0.0,>=2.1.0->FundamentalAnalysis) (1.3.7)\n",
      "Requirement already satisfied: numba>=0.56.4 in /Users/yangbo/anaconda3/lib/python3.11/site-packages (from pandas[computation,performance,plot]<3.0.0,>=2.1.0->FundamentalAnalysis) (0.59.1)\n",
      "Requirement already satisfied: numexpr>=2.8.4 in /Users/yangbo/anaconda3/lib/python3.11/site-packages (from pandas[computation,performance,plot]<3.0.0,>=2.1.0->FundamentalAnalysis) (2.8.7)\n",
      "Requirement already satisfied: scipy>=1.10.0 in /Users/yangbo/anaconda3/lib/python3.11/site-packages (from pandas[computation,performance,plot]<3.0.0,>=2.1.0->FundamentalAnalysis) (1.13.1)\n",
      "Requirement already satisfied: xarray>=2022.12.0 in /Users/yangbo/anaconda3/lib/python3.11/site-packages (from pandas[computation,performance,plot]<3.0.0,>=2.1.0->FundamentalAnalysis) (2023.6.0)\n",
      "Requirement already satisfied: matplotlib>=3.6.3 in /Users/yangbo/anaconda3/lib/python3.11/site-packages (from pandas[computation,performance,plot]<3.0.0,>=2.1.0->FundamentalAnalysis) (3.8.4)\n",
      "Requirement already satisfied: contourpy>=1.0.1 in /Users/yangbo/anaconda3/lib/python3.11/site-packages (from matplotlib>=3.6.3->pandas[computation,performance,plot]<3.0.0,>=2.1.0->FundamentalAnalysis) (1.2.0)\n",
      "Requirement already satisfied: cycler>=0.10 in /Users/yangbo/anaconda3/lib/python3.11/site-packages (from matplotlib>=3.6.3->pandas[computation,performance,plot]<3.0.0,>=2.1.0->FundamentalAnalysis) (0.11.0)\n",
      "Requirement already satisfied: fonttools>=4.22.0 in /Users/yangbo/anaconda3/lib/python3.11/site-packages (from matplotlib>=3.6.3->pandas[computation,performance,plot]<3.0.0,>=2.1.0->FundamentalAnalysis) (4.51.0)\n",
      "Requirement already satisfied: kiwisolver>=1.3.1 in /Users/yangbo/anaconda3/lib/python3.11/site-packages (from matplotlib>=3.6.3->pandas[computation,performance,plot]<3.0.0,>=2.1.0->FundamentalAnalysis) (1.4.4)\n",
      "Requirement already satisfied: packaging>=20.0 in /Users/yangbo/anaconda3/lib/python3.11/site-packages (from matplotlib>=3.6.3->pandas[computation,performance,plot]<3.0.0,>=2.1.0->FundamentalAnalysis) (23.2)\n",
      "Requirement already satisfied: pillow>=8 in /Users/yangbo/anaconda3/lib/python3.11/site-packages (from matplotlib>=3.6.3->pandas[computation,performance,plot]<3.0.0,>=2.1.0->FundamentalAnalysis) (10.3.0)\n",
      "Requirement already satisfied: pyparsing>=2.3.1 in /Users/yangbo/anaconda3/lib/python3.11/site-packages (from matplotlib>=3.6.3->pandas[computation,performance,plot]<3.0.0,>=2.1.0->FundamentalAnalysis) (3.0.9)\n",
      "Requirement already satisfied: llvmlite<0.43,>=0.42.0dev0 in /Users/yangbo/anaconda3/lib/python3.11/site-packages (from numba>=0.56.4->pandas[computation,performance,plot]<3.0.0,>=2.1.0->FundamentalAnalysis) (0.42.0)\n",
      "Requirement already satisfied: six>=1.5 in /Users/yangbo/anaconda3/lib/python3.11/site-packages (from python-dateutil>=2.8.2->pandas<3.0.0,>=2.1.0->pandas[computation,performance,plot]<3.0.0,>=2.1.0->FundamentalAnalysis) (1.16.0)\n",
      "Requirement already satisfied: charset-normalizer<4,>=2 in /Users/yangbo/anaconda3/lib/python3.11/site-packages (from requests<3.0.0,>=2.32.3->financetoolkit<2.0.0,>=1.3.5->FundamentalAnalysis) (2.0.4)\n",
      "Requirement already satisfied: idna<4,>=2.5 in /Users/yangbo/anaconda3/lib/python3.11/site-packages (from requests<3.0.0,>=2.32.3->financetoolkit<2.0.0,>=1.3.5->FundamentalAnalysis) (3.7)\n",
      "Requirement already satisfied: urllib3<3,>=1.21.1 in /Users/yangbo/anaconda3/lib/python3.11/site-packages (from requests<3.0.0,>=2.32.3->financetoolkit<2.0.0,>=1.3.5->FundamentalAnalysis) (2.2.2)\n",
      "Requirement already satisfied: certifi>=2017.4.17 in /Users/yangbo/anaconda3/lib/python3.11/site-packages (from requests<3.0.0,>=2.32.3->financetoolkit<2.0.0,>=1.3.5->FundamentalAnalysis) (2024.7.4)\n",
      "Requirement already satisfied: joblib>=1.2.0 in /Users/yangbo/anaconda3/lib/python3.11/site-packages (from scikit-learn<2.0,>=1.5->financetoolkit<2.0.0,>=1.3.5->FundamentalAnalysis) (1.4.2)\n",
      "Requirement already satisfied: threadpoolctl>=3.1.0 in /Users/yangbo/anaconda3/lib/python3.11/site-packages (from scikit-learn<2.0,>=1.5->financetoolkit<2.0.0,>=1.3.5->FundamentalAnalysis) (3.5.0)\n",
      "Note: you may need to restart the kernel to use updated packages.\n"
     ]
    }
   ],
   "source": [
    "pip install FundamentalAnalysis"
   ]
  },
  {
   "cell_type": "code",
   "execution_count": 7,
   "id": "215e58b1",
   "metadata": {},
   "outputs": [
    {
     "ename": "ModuleNotFoundError",
     "evalue": "No module named 'FundamentalAnalysis'",
     "output_type": "error",
     "traceback": [
      "\u001b[0;31m---------------------------------------------------------------------------\u001b[0m",
      "\u001b[0;31mModuleNotFoundError\u001b[0m                       Traceback (most recent call last)",
      "Cell \u001b[0;32mIn[7], line 1\u001b[0m\n\u001b[0;32m----> 1\u001b[0m \u001b[38;5;28;01mimport\u001b[39;00m \u001b[38;5;21;01mFundamentalAnalysis\u001b[39;00m \u001b[38;5;28;01mas\u001b[39;00m \u001b[38;5;21;01mfa\u001b[39;00m\n",
      "\u001b[0;31mModuleNotFoundError\u001b[0m: No module named 'FundamentalAnalysis'"
     ]
    }
   ],
   "source": [
    "import FundamentalAnalysis as fa"
   ]
  },
  {
   "cell_type": "code",
   "execution_count": null,
   "id": "61bbdb40",
   "metadata": {},
   "outputs": [],
   "source": []
  }
 ],
 "metadata": {
  "kernelspec": {
   "display_name": "Python 3 (ipykernel)",
   "language": "python",
   "name": "python3"
  },
  "language_info": {
   "codemirror_mode": {
    "name": "ipython",
    "version": 3
   },
   "file_extension": ".py",
   "mimetype": "text/x-python",
   "name": "python",
   "nbconvert_exporter": "python",
   "pygments_lexer": "ipython3",
   "version": "3.11.8"
  }
 },
 "nbformat": 4,
 "nbformat_minor": 5
}
