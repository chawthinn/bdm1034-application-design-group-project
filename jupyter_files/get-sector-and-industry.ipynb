{
 "cells": [
  {
   "cell_type": "code",
   "execution_count": 1,
   "metadata": {},
   "outputs": [],
   "source": [
    "import os\n",
    "from dotenv import load_dotenv\n",
    "\n",
    "# Load environment variables\n",
    "load_dotenv()\n",
    "MONGO_URI = os.getenv(\"MONGO_URI\")\n",
    "ALPHAVANTAGE_API_KEY = os.getenv(\"ALPHAVANTAGE_API_KEY\")"
   ]
  },
  {
   "cell_type": "code",
   "execution_count": 2,
   "metadata": {},
   "outputs": [],
   "source": [
    "from pymongo import MongoClient\n",
    "\n",
    "# Connect to MongoDB\n",
    "client = MongoClient(MONGO_URI)\n",
    "db = client[\"robo_advisor\"]  # Use the \"robo_advisor\" database\n",
    "collection = db[\"historical_prices\"]  # Use the \"market_data\" collection"
   ]
  },
  {
   "cell_type": "code",
   "execution_count": 3,
   "metadata": {},
   "outputs": [
    {
     "name": "stdout",
     "output_type": "stream",
     "text": [
      "Fetched 71 tickers from MongoDB\n"
     ]
    }
   ],
   "source": [
    "# Fetch distinct tickers from MongoDB\n",
    "tickers = db['historical_prices'].distinct(\"Asset\")\n",
    "print(f\"Fetched {len(tickers)} tickers from MongoDB\")"
   ]
  },
  {
   "cell_type": "code",
   "execution_count": 4,
   "metadata": {},
   "outputs": [],
   "source": [
    "# Initialize a list to store general information\n",
    "data = []"
   ]
  },
  {
   "cell_type": "code",
   "execution_count": 5,
   "metadata": {},
   "outputs": [
    {
     "name": "stdout",
     "output_type": "stream",
     "text": [
      "   Ticker                       Short Name  \\\n",
      "0    AAPL                       Apple Inc.   \n",
      "1     AGG  iShares Core U.S. Aggregate Bon   \n",
      "2     AMD     Advanced Micro Devices, Inc.   \n",
      "3    AMGN                       Amgen Inc.   \n",
      "4    AMZN                 Amazon.com, Inc.   \n",
      "..    ...                              ...   \n",
      "66    XLF  SPDR Select Sector Fund - Finan   \n",
      "67    XLK  SPDR Select Sector Fund - Techn   \n",
      "68    XLV  SPDR Select Sector Fund - Healt   \n",
      "69    XLY  SPDR Select Sector Fund - Consu   \n",
      "70     ZG               Zillow Group, Inc.   \n",
      "\n",
      "                                            Long Name Asset_Type  \\\n",
      "0                                          Apple Inc.     EQUITY   \n",
      "1                iShares Core U.S. Aggregate Bond ETF        ETF   \n",
      "2                        Advanced Micro Devices, Inc.     EQUITY   \n",
      "3                                          Amgen Inc.     EQUITY   \n",
      "4                                    Amazon.com, Inc.     EQUITY   \n",
      "..                                                ...        ...   \n",
      "66              The Financial Select Sector SPDR Fund        ETF   \n",
      "67             The Technology Select Sector SPDR Fund        ETF   \n",
      "68            The Health Care Select Sector SPDR Fund        ETF   \n",
      "69  The Consumer Discretionary Select Sector SPDR ...        ETF   \n",
      "70                                 Zillow Group, Inc.     EQUITY   \n",
      "\n",
      "                    Sector                        Industry Exchange Currency  \\\n",
      "0               Technology            Consumer Electronics      NMS      USD   \n",
      "1                      N/A                             N/A      PCX      USD   \n",
      "2               Technology                  Semiconductors      NMS      USD   \n",
      "3               Healthcare    Drug Manufacturers - General      NMS      USD   \n",
      "4        Consumer Cyclical                 Internet Retail      NMS      USD   \n",
      "..                     ...                             ...      ...      ...   \n",
      "66                     N/A                             N/A      PCX      USD   \n",
      "67                     N/A                             N/A      PCX      USD   \n",
      "68                     N/A                             N/A      PCX      USD   \n",
      "69                     N/A                             N/A      PCX      USD   \n",
      "70  Communication Services  Internet Content & Information      NMS      USD   \n",
      "\n",
      "                                          Description  \n",
      "0   Apple Inc. designs, manufactures, and markets ...  \n",
      "1   The index measures the performance of the tota...  \n",
      "2   Advanced Micro Devices, Inc. operates as a sem...  \n",
      "3   Amgen Inc. discovers, develops, manufactures, ...  \n",
      "4   Amazon.com, Inc. engages in the retail sale of...  \n",
      "..                                                ...  \n",
      "66  The fund generally invests substantially all, ...  \n",
      "67  In seeking to track the performance of the ind...  \n",
      "68  In seeking to track the performance of the ind...  \n",
      "69  The Advisor employs a replication strategy. Th...  \n",
      "70  Zillow Group, Inc. operates real estate brands...  \n",
      "\n",
      "[71 rows x 9 columns]\n"
     ]
    }
   ],
   "source": [
    "import yfinance as yf\n",
    "import pandas as pd\n",
    "\n",
    "# Fetch sector and industry information for each ticker\n",
    "for ticker in tickers:\n",
    "    try:\n",
    "        # Download ticker info\n",
    "        stock = yf.Ticker(ticker)\n",
    "        info = stock.info\n",
    "        \n",
    "        # Append the sector and industry details\n",
    "        data.append({\n",
    "            \"Ticker\": ticker,\n",
    "            \"Short Name\": info.get(\"shortName\", \"N/A\"),\n",
    "            \"Long Name\": info.get(\"longName\", \"N/A\"),\n",
    "            \"Asset_Type\": info.get(\"quoteType\", \"N/A\"), \n",
    "            \"Sector\": info.get(\"sector\", \"N/A\"),\n",
    "            \"Industry\": info.get(\"industry\", \"N/A\"),\n",
    "            \"Exchange\": info.get(\"exchange\", \"N/A\"),\n",
    "            \"Currency\": info.get(\"currency\", \"N/A\"),\n",
    "            \"Description\": info.get(\"longBusinessSummary\", \"N/A\")\n",
    "        })\n",
    "    except Exception as e:\n",
    "        print(f\"Error fetching data for {ticker}: {e}\")\n",
    "        data.append({\"Ticker\": ticker, \"Sector\": \"Error\", \"Industry\": \"Error\", \"Asset_Type\": \"Error\"})\n",
    "\n",
    "# Convert the data into a Pandas DataFrame\n",
    "df = pd.DataFrame(data)\n",
    "\n",
    "# Display the DataFrame\n",
    "print(df)"
   ]
  },
  {
   "cell_type": "code",
   "execution_count": 6,
   "metadata": {},
   "outputs": [
    {
     "data": {
      "text/plain": [
       "Ticker          0\n",
       "Short Name      0\n",
       "Long Name       0\n",
       "Asset_Type      0\n",
       "Sector         21\n",
       "Industry       21\n",
       "Exchange        0\n",
       "Currency        0\n",
       "Description     0\n",
       "dtype: int64"
      ]
     },
     "execution_count": 6,
     "metadata": {},
     "output_type": "execute_result"
    }
   ],
   "source": [
    "# Find N/A rows\n",
    "df.isin(['N/A']).sum()"
   ]
  },
  {
   "cell_type": "code",
   "execution_count": 22,
   "metadata": {},
   "outputs": [
    {
     "name": "stdout",
     "output_type": "stream",
     "text": [
      "   Ticker Asset_Type\n",
      "1     AGG        ETF\n",
      "9     BND        ETF\n",
      "19    DIA        ETF\n",
      "21    EEM        ETF\n",
      "22    EFA        ETF\n",
      "25    GLD        ETF\n",
      "27    HYG        ETF\n",
      "29    IEF        ETF\n",
      "32    IWM        ETF\n",
      "37    LQD        ETF\n",
      "50    QQQ        ETF\n",
      "51    SHY        ETF\n",
      "52    SPY        ETF\n",
      "55    TLT        ETF\n",
      "60    VEA        ETF\n",
      "64    VWO        ETF\n",
      "65    XLE        ETF\n",
      "66    XLF        ETF\n",
      "67    XLK        ETF\n",
      "68    XLV        ETF\n",
      "69    XLY        ETF\n"
     ]
    }
   ],
   "source": [
    "# Find rows where any column contains \"N/A\"\n",
    "other_columns = df.drop(columns=['Ticker'])\n",
    "na_rows = other_columns.eq('N/A').any(axis=1)\n",
    "tickers_with_na = df.loc[na_rows, ['Ticker', 'Asset_Type']]\n",
    "\n",
    "# Display rows with \"N/A\"\n",
    "print(tickers_with_na)\n"
   ]
  },
  {
   "cell_type": "code",
   "execution_count": null,
   "metadata": {},
   "outputs": [
    {
     "name": "stdout",
     "output_type": "stream",
     "text": [
      "Response for AGG:\n",
      "{'Information': 'Thank you for using Alpha Vantage! Our standard API rate limit is 25 requests per day. Please subscribe to any of the premium plans at https://www.alphavantage.co/premium/ to instantly remove all daily rate limits.'}\n"
     ]
    }
   ],
   "source": [
    "# import requests\n",
    "\n",
    "# # AlphaVantage API key\n",
    "# api_key = ALPHAVANTAGE_API_KEY\n",
    "\n",
    "# # Function to fetch metadata for a ticker\n",
    "# def get_symbol_metadata(symbol):\n",
    "#     url = f\"https://www.alphavantage.co/query?function=OVERVIEW&symbol={symbol}&apikey={api_key}\"\n",
    "#     response = requests.get(url).json()  # Fetch the response and parse it as JSON\n",
    "    \n",
    "#     # Print the raw response for inspection\n",
    "#     print(f\"Response for {symbol}:\")\n",
    "#     print(response)\n",
    "#     return response\n",
    "\n",
    "# response = get_symbol_metadata(\"AGG\")"
   ]
  }
 ],
 "metadata": {
  "kernelspec": {
   "display_name": "Python 3",
   "language": "python",
   "name": "python3"
  },
  "language_info": {
   "codemirror_mode": {
    "name": "ipython",
    "version": 3
   },
   "file_extension": ".py",
   "mimetype": "text/x-python",
   "name": "python",
   "nbconvert_exporter": "python",
   "pygments_lexer": "ipython3",
   "version": "3.12.7"
  }
 },
 "nbformat": 4,
 "nbformat_minor": 2
}
