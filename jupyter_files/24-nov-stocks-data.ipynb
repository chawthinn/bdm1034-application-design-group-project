{
 "cells": [
  {
   "cell_type": "markdown",
   "metadata": {},
   "source": [
    "**Load Stocks Data**\n",
    "\n",
    "Source: datasets are extracted from https://www.nasdaq.com/ and\n",
    "https://www.macrotrends.net/"
   ]
  },
  {
   "cell_type": "code",
   "execution_count": 6,
   "metadata": {},
   "outputs": [
    {
     "name": "stdout",
     "output_type": "stream",
     "text": [
      "              Date Asset    Close\n",
      "0       1986-07-09  COST   6.5786\n",
      "1       1986-07-10  COST   6.5412\n",
      "2       1986-07-11  COST   6.3170\n",
      "3       1986-07-14  COST   6.1301\n",
      "4       1986-07-15  COST   5.9432\n",
      "...            ...   ...      ...\n",
      "209702  04/15/2019  GNOM  14.9100\n",
      "209703  04/12/2019  GNOM  15.0197\n",
      "209704  04/11/2019  GNOM  15.0600\n",
      "209705  04/10/2019  GNOM  15.3700\n",
      "209706  04/09/2019  GNOM  15.0400\n",
      "\n",
      "[209707 rows x 3 columns]\n"
     ]
    }
   ],
   "source": [
    "import pandas as pd\n",
    "\n",
    "# List of file paths with their corresponding asset names\n",
    "file_paths_and_assets = [\n",
    "    (\"../datasets/HistoricalData_COST.csv\", \"COST\"),\n",
    "    (\"../datasets/HistoricalData_ORCL.csv\", \"ORCL\"),\n",
    "    (\"../datasets/HistoricalData_UNH.csv\", \"UNH\"),\n",
    "    (\"../datasets/HistoricalData_WMT.csv\", \"WMT\"),\n",
    "    (\"../datasets/HistoricalData_MA.csv\", \"MA\"),\n",
    "    (\"../datasets/HistoricalData_V.csv\", \"V\"),\n",
    "    (\"../datasets/HistoricalData_BA.csv\", \"BA\"),\n",
    "    (\"../datasets/HistoricalData_ENB.csv\", \"ENB\"),\n",
    "    (\"../datasets/HistoricalData_RY.csv\", \"RY\"),\n",
    "    (\"../datasets/HistoricalData_TD.csv\", \"TD\"),\n",
    "    (\"../datasets/HistoricalData_BMO.csv\", \"BMO\"),\n",
    "    (\"../datasets/HistoricalData_CM.csv\", \"CM\"),\n",
    "    (\"../datasets/HistoricalData_SHOP.csv\", \"SHOP\"),\n",
    "    (\"../datasets/HistoricalData_MMM.csv\", \"MMM\"),\n",
    "    (\"../datasets/HistoricalData_CAT.csv\", \"CAT\"),\n",
    "    (\"../datasets/HistoricalData_XOM.csv\", \"XOM\"),\n",
    "    (\"../datasets/HistoricalData_CVX.csv\", \"CVX\"),\n",
    "    (\"../datasets/HistoricalData_ABT.csv\", \"ABT\"),\n",
    "    (\"../datasets/HistoricalData_TMO.csv\", \"TMO\"),\n",
    "    (\"../datasets/HistoricalData_SNOW.csv\", \"SNOW\"),\n",
    "    (\"../datasets/HistoricalData_RIVN.csv\", \"RIVN\"),\n",
    "    (\"../datasets/HistoricalData_WEAT.csv\", \"WEAT\"),\n",
    "    (\"../datasets/HistoricalData_SLV.csv\", \"SLV\"),\n",
    "    (\"../datasets/HistoricalData_USO.csv\", \"USO\"),\n",
    "    (\"../datasets/HistoricalData_DBA.csv\", \"DBA\"),\n",
    "    (\"../datasets/HistoricalData_LQD.csv\", \"LQD\"),\n",
    "    (\"../datasets/HistoricalData_BND.csv\", \"BND\"),\n",
    "    (\"../datasets/HistoricalData_XBB.csv\", \"XBB\"),\n",
    "    (\"../datasets/HistoricalData_ICLN.csv\", \"ICLN\"),\n",
    "    (\"../datasets/HistoricalData_TAN.csv\", \"TAN\"),\n",
    "    (\"../datasets/HistoricalData_ARKK.csv\", \"ARKK\"),\n",
    "    (\"../datasets/HistoricalData_GNOM.csv\", \"GNOM\"),\n",
    "]\n",
    "\n",
    "# Initialize an empty list to store processed DataFrames\n",
    "dataframes = []\n",
    "\n",
    "# Process each file\n",
    "for file_path, asset_name in file_paths_and_assets:\n",
    "    try:\n",
    "        # Load the CSV into a DataFrame\n",
    "        df = pd.read_csv(file_path)\n",
    "        \n",
    "        # Add the 'Asset' column\n",
    "        df['Asset'] = asset_name\n",
    "        \n",
    "        # Filter and rename columns\n",
    "        df = df[['Date', 'Asset', 'Close']]\n",
    "        \n",
    "        # Append the processed DataFrame to the list\n",
    "        dataframes.append(df)\n",
    "    except Exception as e:\n",
    "        print(f\"Error processing file {file_path}: {e}\")\n",
    "\n",
    "# Combine all processed DataFrames into one\n",
    "final_df = pd.concat(dataframes, ignore_index=True)\n",
    "\n",
    "# Display the combined DataFrame\n",
    "print(final_df)"
   ]
  },
  {
   "cell_type": "code",
   "execution_count": 7,
   "metadata": {},
   "outputs": [
    {
     "name": "stdout",
     "output_type": "stream",
     "text": [
      "['ABT', 'ARKK', 'BA', 'BMO', 'BND', 'CAT', 'CM', 'COST', 'CVX', 'DBA', 'ENB', 'GNOM', 'ICLN', 'LQD', 'MA', 'MMM', 'ORCL', 'RIVN', 'RY', 'SHOP', 'SLV', 'SNOW', 'TAN', 'TD', 'TMO', 'UNH', 'USO', 'V', 'WEAT', 'WMT', 'XBB', 'XOM']\n"
     ]
    }
   ],
   "source": [
    "print(sorted(final_df['Asset'].unique()))"
   ]
  },
  {
   "cell_type": "code",
   "execution_count": 8,
   "metadata": {},
   "outputs": [
    {
     "name": "stdout",
     "output_type": "stream",
     "text": [
      "Date     0\n",
      "Asset    0\n",
      "Close    0\n",
      "dtype: int64\n"
     ]
    }
   ],
   "source": [
    "# print sum of missing values in each column\n",
    "print(final_df.isna().sum())"
   ]
  },
  {
   "cell_type": "markdown",
   "metadata": {},
   "source": [
    "**Inject data to MongoDB**"
   ]
  },
  {
   "cell_type": "code",
   "execution_count": 9,
   "metadata": {},
   "outputs": [],
   "source": [
    "import os\n",
    "from dotenv import load_dotenv\n",
    "\n",
    "# Load environment variables\n",
    "load_dotenv()\n",
    "MONGO_URI = os.getenv(\"MONGO_URI\")"
   ]
  },
  {
   "cell_type": "code",
   "execution_count": 10,
   "metadata": {},
   "outputs": [],
   "source": [
    "from pymongo import MongoClient\n",
    "\n",
    "# Connect to MongoDB\n",
    "client = MongoClient(MONGO_URI)\n",
    "db = client[\"robo_advisor\"]  # Use the \"robo_advisor\" database\n",
    "collection = db[\"historical_prices\"]  # Use the \"market_data\" collection"
   ]
  },
  {
   "cell_type": "code",
   "execution_count": 11,
   "metadata": {},
   "outputs": [
    {
     "name": "stdout",
     "output_type": "stream",
     "text": [
      "data successfully inserted into the 'historical_prices' collection.\n"
     ]
    }
   ],
   "source": [
    "# Insert data into MongoDB\n",
    "data_dict = final_df.to_dict(\"records\")  # Convert DataFrame to list of dictionaries\n",
    "collection.insert_many(data_dict)  # Insert into the \"market_data\" collection\n",
    "\n",
    "print(\"data successfully inserted into the 'historical_prices' collection.\")"
   ]
  }
 ],
 "metadata": {
  "kernelspec": {
   "display_name": "Python 3",
   "language": "python",
   "name": "python3"
  },
  "language_info": {
   "codemirror_mode": {
    "name": "ipython",
    "version": 3
   },
   "file_extension": ".py",
   "mimetype": "text/x-python",
   "name": "python",
   "nbconvert_exporter": "python",
   "pygments_lexer": "ipython3",
   "version": "3.12.7"
  }
 },
 "nbformat": 4,
 "nbformat_minor": 2
}
