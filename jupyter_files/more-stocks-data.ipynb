{
 "cells": [
  {
   "cell_type": "markdown",
   "metadata": {},
   "source": [
    "**Load Stocks Data**\n",
    "\n",
    "Source: datasets are extracted from https://www.nasdaq.com/ and\n",
    "https://www.macrotrends.net/"
   ]
  },
  {
   "cell_type": "code",
   "execution_count": 9,
   "metadata": {},
   "outputs": [
    {
     "name": "stdout",
     "output_type": "stream",
     "text": [
      "              Date Asset     Close\n",
      "0       1980-03-17  INTC    0.1815\n",
      "1       1980-03-18  INTC    0.1801\n",
      "2       1980-03-19  INTC    0.1844\n",
      "3       1980-03-20  INTC    0.1837\n",
      "4       1980-03-21  INTC    0.1771\n",
      "...            ...   ...       ...\n",
      "147620  2024-11-15  DDOG  126.0900\n",
      "147621  2024-11-18  DDOG  125.9700\n",
      "147622  2024-11-19  DDOG  133.4100\n",
      "147623  2024-11-20  DDOG  135.4500\n",
      "147624  2024-11-21  DDOG  143.8600\n",
      "\n",
      "[147625 rows x 3 columns]\n"
     ]
    }
   ],
   "source": [
    "import pandas as pd\n",
    "\n",
    "# List of file paths with their corresponding asset names\n",
    "file_paths_and_assets = [\n",
    "    (\"../datasets/HistoricalData_INTC.csv\", \"INTC\"),\n",
    "    (\"../datasets/HistoricalData_CRM.csv\", \"CRM\"),\n",
    "    (\"../datasets/HistoricalData_SU.csv\", \"SU\"),\n",
    "    (\"../datasets/HistoricalData_CNQ.csv\", \"CNQ\"),\n",
    "    (\"../datasets/HistoricalData_JNJ.csv\", \"JNJ\"),\n",
    "    (\"../datasets/HistoricalData_INVA.csv\", \"INVA\"),\n",
    "    (\"../datasets/HistoricalData_AMGN.csv\", \"AMGN\"),\n",
    "    (\"../datasets/HistoricalData_TSM.csv\", \"TSM\"),\n",
    "    (\"../datasets/HistoricalData_AAPL.csv\", \"AAPL\"),\n",
    "    (\"../datasets/HistoricalData_NFLX.csv\", \"NFLX\"),\n",
    "    (\"../datasets/HistoricalData_CLS.csv\", \"CLS\"),\n",
    "    (\"../datasets/HistoricalData_AVGO.csv\", \"AVGO\"),\n",
    "    (\"../datasets/HistoricalData_MRVL.csv\", \"MRVL\"),\n",
    "    (\"../datasets/HistoricalData_PLTR.csv\", \"PLTR\"),\n",
    "    (\"../datasets/HistoricalData_CRWD.csv\", \"CRWD\"),\n",
    "    (\"../datasets/HistoricalData_ANET.csv\", \"ANET\"),\n",
    "    (\"../datasets/HistoricalData_ATI.csv\", \"ATI\"),\n",
    "    (\"../datasets/HistoricalData_VRT.csv\", \"VRT\"),\n",
    "    (\"../datasets/HistoricalData_FICO.csv\", \"FICO\"),\n",
    "    (\"../datasets/HistoricalData_UBER.csv\", \"UBER\"),\n",
    "    (\"../datasets/HistoricalData_AMD.csv\", \"AMD\"),\n",
    "    (\"../datasets/HistoricalData_PYPL.csv\", \"PYPL\"),\n",
    "    (\"../datasets/HistoricalData_EA.csv\", \"EA\"),\n",
    "    (\"../datasets/HistoricalData_ZG.csv\", \"ZG\"),\n",
    "    (\"../datasets/HistoricalData_TTD.csv\", \"TTD\"),\n",
    "    (\"../datasets/HistoricalData_DDOG.csv\", \"DDOG\"),\n",
    "]\n",
    "\n",
    "# Initialize an empty list to store processed DataFrames\n",
    "dataframes = []\n",
    "\n",
    "# Process each file\n",
    "for file_path, asset_name in file_paths_and_assets:\n",
    "    try:\n",
    "        # Load the CSV into a DataFrame\n",
    "        df = pd.read_csv(file_path)\n",
    "        \n",
    "        # Add the 'Asset' column\n",
    "        df['Asset'] = asset_name\n",
    "        \n",
    "        # Filter and rename columns\n",
    "        df = df[['Date', 'Asset', 'Close']]\n",
    "        \n",
    "        # Append the processed DataFrame to the list\n",
    "        dataframes.append(df)\n",
    "    except Exception as e:\n",
    "        print(f\"Error processing file {file_path}: {e}\")\n",
    "\n",
    "# Combine all processed DataFrames into one\n",
    "final_df = pd.concat(dataframes, ignore_index=True)\n",
    "\n",
    "# Display the combined DataFrame\n",
    "print(final_df)"
   ]
  },
  {
   "cell_type": "code",
   "execution_count": 10,
   "metadata": {},
   "outputs": [
    {
     "name": "stdout",
     "output_type": "stream",
     "text": [
      "['AAPL', 'AMD', 'AMGN', 'ANET', 'ATI', 'AVGO', 'CLS', 'CNQ', 'CRM', 'CRWD', 'DDOG', 'EA', 'FICO', 'INTC', 'INVA', 'JNJ', 'MRVL', 'NFLX', 'PLTR', 'PYPL', 'SU', 'TSM', 'TTD', 'UBER', 'VRT', 'ZG']\n"
     ]
    }
   ],
   "source": [
    "print(sorted(final_df['Asset'].unique()))"
   ]
  },
  {
   "cell_type": "code",
   "execution_count": 11,
   "metadata": {},
   "outputs": [
    {
     "name": "stdout",
     "output_type": "stream",
     "text": [
      "Date     0\n",
      "Asset    0\n",
      "Close    0\n",
      "dtype: int64\n"
     ]
    }
   ],
   "source": [
    "# print sum of missing values in each column\n",
    "print(final_df.isna().sum())"
   ]
  },
  {
   "cell_type": "markdown",
   "metadata": {},
   "source": [
    "**Inject data to MongoDB**"
   ]
  },
  {
   "cell_type": "code",
   "execution_count": 12,
   "metadata": {},
   "outputs": [],
   "source": [
    "import os\n",
    "from dotenv import load_dotenv\n",
    "\n",
    "# Load environment variables\n",
    "load_dotenv()\n",
    "MONGO_URI = os.getenv(\"MONGO_URI\")"
   ]
  },
  {
   "cell_type": "code",
   "execution_count": 13,
   "metadata": {},
   "outputs": [],
   "source": [
    "from pymongo import MongoClient\n",
    "\n",
    "# Connect to MongoDB\n",
    "client = MongoClient(MONGO_URI)\n",
    "db = client[\"robo_advisor\"]  # Use the \"robo_advisor\" database\n",
    "collection = db[\"historical_prices\"]  # Use the \"market_data\" collection"
   ]
  },
  {
   "cell_type": "code",
   "execution_count": 14,
   "metadata": {},
   "outputs": [
    {
     "name": "stdout",
     "output_type": "stream",
     "text": [
      "data successfully inserted into the 'historical_prices' collection.\n"
     ]
    }
   ],
   "source": [
    "# Insert data into MongoDB\n",
    "data_dict = final_df.to_dict(\"records\")  # Convert DataFrame to list of dictionaries\n",
    "collection.insert_many(data_dict)  # Insert into the \"market_data\" collection\n",
    "\n",
    "print(\"data successfully inserted into the 'historical_prices' collection.\")"
   ]
  }
 ],
 "metadata": {
  "kernelspec": {
   "display_name": "Python 3",
   "language": "python",
   "name": "python3"
  },
  "language_info": {
   "codemirror_mode": {
    "name": "ipython",
    "version": 3
   },
   "file_extension": ".py",
   "mimetype": "text/x-python",
   "name": "python",
   "nbconvert_exporter": "python",
   "pygments_lexer": "ipython3",
   "version": "3.12.7"
  }
 },
 "nbformat": 4,
 "nbformat_minor": 2
}
