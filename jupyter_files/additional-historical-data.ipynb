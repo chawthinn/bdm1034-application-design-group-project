{
 "cells": [
  {
   "cell_type": "markdown",
   "metadata": {},
   "source": [
    "**Load Commodities and Stocks Data**\n",
    "\n",
    "Source: datasets are extracted from https://www.nasdaq.com/ and\n",
    "https://www.macrotrends.net/"
   ]
  },
  {
   "cell_type": "code",
   "execution_count": null,
   "metadata": {},
   "outputs": [],
   "source": [
    "import pandas as pd\n",
    "\n",
    "# load csv file as DataFrame\n",
    "csv_file_path_1 = \"../datasets/HistoricalData_GLD.csv\"\n",
    "csv_file_path_2 = \"../datasets/HistoricalData_GOOGL.csv\"\n",
    "csv_file_path_3 = \"../datasets/HistoricalData_MSFT.csv\"\n",
    "csv_file_path_4 = \"../datasets/HistoricalData_TCEHY.csv\"\n",
    "csv_file_path_5 = \"../datasets/HistoricalData_LLY.csv\"\n",
    "csv_file_path_6 = \"../datasets/HistoricalData_META.csv\"\n",
    "csv_file_path_7 = \"../datasets/HistoricalData_AMZN.csv\"\n",
    "csv_file_path_8 = \"../datasets/HistoricalData_NVDA.csv\"\n",
    "csv_file_path_9 = \"../datasets/HistoricalData_CELH.csv\"\n",
    "csv_file_path_10 = \"../datasets/HistoricalData_VKTX.csv\"\n",
    "csv_file_path_11 = \"../datasets/HistoricalData_MSTR.csv\"\n",
    "csv_file_path_12 = \"../datasets/HistoricalData_CVNA.csv\"\n",
    "csv_file_path_13 = \"../datasets/HistoricalData_VST.csv\"\n",
    "csv_file_path_14 = \"../datasets/HistoricalData_TSLA.csv\"\n",
    "csv_file_path_15 = \"../datasets/HistoricalData_COKE.csv\"\n",
    "csv_file_path_16 = \"../datasets/HistoricalData_FIX.csv\"\n",
    "csv_file_path_17 = \"../datasets/HistoricalData_JPM.csv\""
   ]
  },
  {
   "cell_type": "code",
   "execution_count": 129,
   "metadata": {},
   "outputs": [
    {
     "name": "stdout",
     "output_type": "stream",
     "text": [
      "         Date Asset   Close\n",
      "0  1983-12-30   JPM  2.5221\n"
     ]
    }
   ],
   "source": [
    "df = pd.read_csv(csv_file_path_17)\n",
    "\n",
    "# update asset name\n",
    "df['Asset'] = 'JPM'\n",
    "\n",
    "# filter columns and rename\n",
    "df = df[['Date', 'Asset', 'Close']]\n",
    "\n",
    "# reveiw the data\n",
    "print(df.head(1))\n",
    "# print(df.info())\n",
    "# print(df.describe())"
   ]
  },
  {
   "cell_type": "code",
   "execution_count": 130,
   "metadata": {},
   "outputs": [
    {
     "name": "stdout",
     "output_type": "stream",
     "text": [
      "Date     0\n",
      "Asset    0\n",
      "Close    0\n",
      "dtype: int64\n"
     ]
    }
   ],
   "source": [
    "# print sum of missing values in each column\n",
    "print(df.isna().sum())"
   ]
  },
  {
   "cell_type": "markdown",
   "metadata": {},
   "source": [
    "**Inject data to MongoDB**"
   ]
  },
  {
   "cell_type": "code",
   "execution_count": 131,
   "metadata": {},
   "outputs": [],
   "source": [
    "import os\n",
    "from dotenv import load_dotenv\n",
    "\n",
    "# Load environment variables\n",
    "load_dotenv()\n",
    "MONGO_URI = os.getenv(\"MONGO_URI\")"
   ]
  },
  {
   "cell_type": "code",
   "execution_count": 132,
   "metadata": {},
   "outputs": [],
   "source": [
    "from pymongo import MongoClient\n",
    "\n",
    "# Connect to MongoDB\n",
    "client = MongoClient(MONGO_URI)\n",
    "db = client[\"robo_advisor\"]  # Use the \"robo_advisor\" database\n",
    "collection = db[\"historical_prices\"]  # Use the \"market_data\" collection"
   ]
  },
  {
   "cell_type": "code",
   "execution_count": 133,
   "metadata": {},
   "outputs": [
    {
     "name": "stdout",
     "output_type": "stream",
     "text": [
      "data successfully inserted into the 'historical_prices' collection.\n"
     ]
    }
   ],
   "source": [
    "# Insert data into MongoDB\n",
    "data_dict = df.to_dict(\"records\")  # Convert DataFrame to list of dictionaries\n",
    "collection.insert_many(data_dict)  # Insert into the \"market_data\" collection\n",
    "\n",
    "print(\"data successfully inserted into the 'historical_prices' collection.\")"
   ]
  }
 ],
 "metadata": {
  "kernelspec": {
   "display_name": "Python 3",
   "language": "python",
   "name": "python3"
  },
  "language_info": {
   "codemirror_mode": {
    "name": "ipython",
    "version": 3
   },
   "file_extension": ".py",
   "mimetype": "text/x-python",
   "name": "python",
   "nbconvert_exporter": "python",
   "pygments_lexer": "ipython3",
   "version": "3.12.7"
  }
 },
 "nbformat": 4,
 "nbformat_minor": 2
}
