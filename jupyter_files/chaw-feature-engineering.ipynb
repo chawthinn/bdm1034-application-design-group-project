{
 "cells": [
  {
   "cell_type": "markdown",
   "metadata": {},
   "source": [
    "# Load Dataset"
   ]
  },
  {
   "cell_type": "markdown",
   "metadata": {},
   "source": [
    "### Import Libraries"
   ]
  },
  {
   "cell_type": "code",
   "execution_count": 201,
   "metadata": {},
   "outputs": [],
   "source": [
    "import os\n",
    "from dotenv import load_dotenv\n",
    "from pymongo import MongoClient\n",
    "import pandas as pd"
   ]
  },
  {
   "cell_type": "markdown",
   "metadata": {},
   "source": [
    "### Load Historical Prices"
   ]
  },
  {
   "cell_type": "code",
   "execution_count": 202,
   "metadata": {},
   "outputs": [
    {
     "name": "stdout",
     "output_type": "stream",
     "text": [
      "Loaded 883859 records from historical_prices collection.\n",
      "<class 'pandas.core.frame.DataFrame'>\n",
      "RangeIndex: 883859 entries, 0 to 883858\n",
      "Data columns (total 5 columns):\n",
      " #   Column                  Non-Null Count   Dtype         \n",
      "---  ------                  --------------   -----         \n",
      " 0   Date                    883859 non-null  object        \n",
      " 1   Asset                   883859 non-null  object        \n",
      " 2   Close                   883859 non-null  float64       \n",
      " 3   last_updated            883859 non-null  object        \n",
      " 4   last_updated_timestamp  883859 non-null  datetime64[ns]\n",
      "dtypes: datetime64[ns](1), float64(1), object(3)\n",
      "memory usage: 33.7+ MB\n"
     ]
    }
   ],
   "source": [
    "# Load environment variables\n",
    "load_dotenv()\n",
    "\n",
    "# MongoDB Connection Setup\n",
    "MONGO_URI = os.getenv(\"MONGO_URI\")\n",
    "if not MONGO_URI:\n",
    "    raise ValueError(\"MONGO_URI not found in environment variables. Please check your .env file.\")\n",
    "\n",
    "DATABASE_NAME = \"robo_advisor\"\n",
    "HISTORICAL_PRICES_COLLECTION = \"historical_prices\"\n",
    "\n",
    "# Load Historical Prices\n",
    "def load_historical_prices():\n",
    "    client = MongoClient(MONGO_URI)\n",
    "    db = client[DATABASE_NAME]\n",
    "    collection = db[HISTORICAL_PRICES_COLLECTION]\n",
    "    \n",
    "    # Fetch all historical prices\n",
    "    data = list(collection.find({}, {\"_id\": 0}))  # Exclude MongoDB `_id` field for simplicity\n",
    "    if not data:\n",
    "        print(\"No data found in historical_prices collection.\")\n",
    "        return pd.DataFrame()\n",
    "    \n",
    "    # Convert to DataFrame\n",
    "    df = pd.DataFrame(data)\n",
    "    print(f\"Loaded {len(df)} records from historical_prices collection.\")\n",
    "    return df\n",
    "\n",
    "# Load and display\n",
    "historical_prices_df = load_historical_prices()\n",
    "historical_prices_df.head()\n",
    "historical_prices_df.info()"
   ]
  },
  {
   "cell_type": "markdown",
   "metadata": {},
   "source": [
    "### Standardize numeric field 'Close'"
   ]
  },
  {
   "cell_type": "code",
   "execution_count": 203,
   "metadata": {},
   "outputs": [
    {
     "name": "stdout",
     "output_type": "stream",
     "text": [
      "        Asset  Close\n",
      "222191  TCEHY  51.86\n",
      "222192  TCEHY  50.13\n",
      "222193  TCEHY  55.04\n",
      "222194  TCEHY  62.35\n",
      "222195  TCEHY  48.40\n",
      "After update: float64\n"
     ]
    }
   ],
   "source": [
    "# Process and update \"Close\" values for \"TECHY\"\n",
    "historical_prices_df.loc[historical_prices_df['Asset'] == 'TCEHY', 'Close'] = (\n",
    "    historical_prices_df.loc[historical_prices_df['Asset'] == 'TCEHY', 'Close']\n",
    "    .apply(lambda x: float(x.replace('$', '')) if isinstance(x, str) else x)  # Strip $ and convert to float\n",
    ")\n",
    "\n",
    "# Verify if the update was successful\n",
    "print(historical_prices_df[historical_prices_df['Asset'] == 'TCEHY'][['Asset', 'Close']].head())\n",
    "\n",
    "# Check the type after the update\n",
    "print(\"After update:\", historical_prices_df['Close'].dtype)"
   ]
  },
  {
   "cell_type": "markdown",
   "metadata": {},
   "source": [
    "### Put the cleaned data back to mongodb"
   ]
  },
  {
   "cell_type": "code",
   "execution_count": 204,
   "metadata": {},
   "outputs": [
    {
     "name": "stdout",
     "output_type": "stream",
     "text": [
      "TCEHY Close values updated in MongoDB.\n"
     ]
    }
   ],
   "source": [
    "client = MongoClient(MONGO_URI)\n",
    "db = client[DATABASE_NAME]\n",
    "collection = db[HISTORICAL_PRICES_COLLECTION]\n",
    "\n",
    "# Update MongoDB with the new Close values for 'TCEHY'\n",
    "for index, row in historical_prices_df[historical_prices_df['Asset'] == 'TCEHY'].iterrows():\n",
    "    collection.update_one(\n",
    "        {'Asset': 'TCEHY', 'Date': row['Date']},  # Match the document by Asset and _id (if _id exists)\n",
    "        {'$set': {'Close': row['Close']}}  # Update the \"Close\" value\n",
    "    )\n",
    "print(\"TCEHY Close values updated in MongoDB.\")"
   ]
  },
  {
   "cell_type": "code",
   "execution_count": 205,
   "metadata": {},
   "outputs": [
    {
     "name": "stdout",
     "output_type": "stream",
     "text": [
      "<class 'pandas.core.frame.DataFrame'>\n",
      "RangeIndex: 883859 entries, 0 to 883858\n",
      "Data columns (total 5 columns):\n",
      " #   Column                  Non-Null Count   Dtype         \n",
      "---  ------                  --------------   -----         \n",
      " 0   Date                    883859 non-null  object        \n",
      " 1   Asset                   883859 non-null  object        \n",
      " 2   Close                   883859 non-null  float64       \n",
      " 3   last_updated            883859 non-null  object        \n",
      " 4   last_updated_timestamp  883859 non-null  datetime64[ns]\n",
      "dtypes: datetime64[ns](1), float64(1), object(3)\n",
      "memory usage: 33.7+ MB\n"
     ]
    }
   ],
   "source": [
    "historical_prices_df.info()"
   ]
  },
  {
   "cell_type": "markdown",
   "metadata": {},
   "source": [
    "### Load Asset Metadata"
   ]
  },
  {
   "cell_type": "code",
   "execution_count": 206,
   "metadata": {},
   "outputs": [
    {
     "name": "stdout",
     "output_type": "stream",
     "text": [
      "Loaded 116 records from asset_metadata collection.\n",
      "  Ticker Asset_Type                  Sector                        Industry  \\\n",
      "0    AMD     EQUITY              Technology                  Semiconductors   \n",
      "1   COKE     EQUITY      Consumer Defensive       Beverages - Non-Alcoholic   \n",
      "2     EA     EQUITY  Communication Services  Electronic Gaming & Multimedia   \n",
      "3    IEF        ETF                     N/A                             N/A   \n",
      "4    JPM     EQUITY      Financial Services             Banks - Diversified   \n",
      "\n",
      "  Exchange Currency                                        Description  \\\n",
      "0      NMS      USD  Advanced Micro Devices, Inc. operates as a sem...   \n",
      "1      NMS      USD  Coca-Cola Consolidated, Inc., together with it...   \n",
      "2      NMS      USD  Electronic Arts Inc. develops, markets, publis...   \n",
      "3      NGM      USD  The underlying index measures the performance ...   \n",
      "4      NYQ      USD  JPMorgan Chase & Co. operates as a financial s...   \n",
      "\n",
      "          1Y          3Y          5Y  ...  Monthly_Volatility  \\\n",
      "0  12.411087  -12.870722  252.628879  ...            0.171497   \n",
      "1  75.794679  116.288023  374.623498  ...            0.095635   \n",
      "2  23.638537   34.941459   72.993560  ...            0.134794   \n",
      "3   1.170480  -18.042145  -16.614559  ...            0.020067   \n",
      "4  63.196507   59.486121  114.841778  ...            1.593868   \n",
      "\n",
      "   Quarterly_Volatility  Risk_Adjusted_1Y Risk_Adjusted_YTD  \\\n",
      "0              0.297041         20.891191         -1.323974   \n",
      "1              0.165645        228.787030        109.629582   \n",
      "2              0.233470         50.624274         51.852756   \n",
      "3              0.034757         16.837858        -40.146785   \n",
      "4              2.760660         11.445905          7.649650   \n",
      "\n",
      "   Average_Dividend_per_Share  Dividend_Frequency  \\\n",
      "0                    0.000000                 N/A   \n",
      "1                    0.395789           Quarterly   \n",
      "2                    0.182500           Quarterly   \n",
      "3                    0.224545             Monthly   \n",
      "4                    0.370825           Quarterly   \n",
      "\n",
      "                             Long_Name      Market_Cap     Risk_Level  \\\n",
      "0         Advanced Micro Devices, Inc.  223.49 billion      High Risk   \n",
      "1         Coca-Cola Consolidated, Inc.   11.78 billion       Low Risk   \n",
      "2                 Electronic Arts Inc.   43.28 billion       Low Risk   \n",
      "3  iShares 7-10 Year Treasury Bond ETF             N/A        Unknown   \n",
      "4                 JPMorgan Chase & Co.  703.75 billion  Moderate Risk   \n",
      "\n",
      "                        Short_Name  \n",
      "0     Advanced Micro Devices, Inc.  \n",
      "1     Coca-Cola Consolidated, Inc.  \n",
      "2             Electronic Arts Inc.  \n",
      "3  iShares 7-10 Year Treasury Bond  \n",
      "4            JP Morgan Chase & Co.  \n",
      "\n",
      "[5 rows x 26 columns]\n",
      "<class 'pandas.core.frame.DataFrame'>\n",
      "RangeIndex: 116 entries, 0 to 115\n",
      "Data columns (total 26 columns):\n",
      " #   Column                      Non-Null Count  Dtype  \n",
      "---  ------                      --------------  -----  \n",
      " 0   Ticker                      116 non-null    object \n",
      " 1   Asset_Type                  116 non-null    object \n",
      " 2   Sector                      116 non-null    object \n",
      " 3   Industry                    116 non-null    object \n",
      " 4   Exchange                    116 non-null    object \n",
      " 5   Currency                    116 non-null    object \n",
      " 6   Description                 116 non-null    object \n",
      " 7   1Y                          116 non-null    float64\n",
      " 8   3Y                          115 non-null    float64\n",
      " 9   5Y                          112 non-null    float64\n",
      " 10  YTD                         116 non-null    float64\n",
      " 11  Sharpe_Ratio                116 non-null    float64\n",
      " 12  Sortino_Ratio               116 non-null    float64\n",
      " 13  Beta                        116 non-null    object \n",
      " 14  Annual_Volatility           116 non-null    float64\n",
      " 15  Daily_Volatility            116 non-null    float64\n",
      " 16  Monthly_Volatility          116 non-null    float64\n",
      " 17  Quarterly_Volatility        116 non-null    float64\n",
      " 18  Risk_Adjusted_1Y            116 non-null    float64\n",
      " 19  Risk_Adjusted_YTD           116 non-null    float64\n",
      " 20  Average_Dividend_per_Share  116 non-null    float64\n",
      " 21  Dividend_Frequency          116 non-null    object \n",
      " 22  Long_Name                   116 non-null    object \n",
      " 23  Market_Cap                  111 non-null    object \n",
      " 24  Risk_Level                  116 non-null    object \n",
      " 25  Short_Name                  116 non-null    object \n",
      "dtypes: float64(13), object(13)\n",
      "memory usage: 23.7+ KB\n",
      "None\n"
     ]
    }
   ],
   "source": [
    "# Asset Metadata Collection\n",
    "ASSET_METADATA_COLLECTION = \"asset_metadata\"\n",
    "\n",
    "# Load Asset Metadata\n",
    "def load_asset_metadata():\n",
    "    client = MongoClient(MONGO_URI)\n",
    "    db = client[DATABASE_NAME]\n",
    "    collection = db[ASSET_METADATA_COLLECTION]\n",
    "    \n",
    "    # Fetch all asset metadata\n",
    "    data = list(collection.find({}, {\"_id\": 0}))  # Exclude MongoDB `_id` field for simplicity\n",
    "    if not data:\n",
    "        print(\"No data found in asset_metadata collection.\")\n",
    "        return pd.DataFrame()\n",
    "    \n",
    "    # Convert to DataFrame\n",
    "    df = pd.DataFrame(data)\n",
    "    print(f\"Loaded {len(df)} records from asset_metadata collection.\")\n",
    "    return df\n",
    "\n",
    "# Load and display\n",
    "asset_metadata_df = load_asset_metadata()\n",
    "print(asset_metadata_df.head())\n",
    "print(asset_metadata_df.info())"
   ]
  },
  {
   "cell_type": "markdown",
   "metadata": {},
   "source": [
    "### Standardize numeric fields"
   ]
  },
  {
   "cell_type": "code",
   "execution_count": 207,
   "metadata": {},
   "outputs": [
    {
     "name": "stdout",
     "output_type": "stream",
     "text": [
      "float64\n"
     ]
    }
   ],
   "source": [
    "# Convert to numeric, coercing errors to NaN (invalid entries like 'N/A' will become NaN)\n",
    "asset_metadata_df['Average_Dividend_per_Share'] = pd.to_numeric(\n",
    "    asset_metadata_df['Average_Dividend_per_Share'], errors='coerce'\n",
    ")\n",
    "\n",
    "# Replace NaN values with 0\n",
    "asset_metadata_df['Average_Dividend_per_Share'] = asset_metadata_df['Average_Dividend_per_Share'].fillna(0)\n",
    "\n",
    "# Verify the type\n",
    "print(asset_metadata_df['Average_Dividend_per_Share'].dtype)"
   ]
  },
  {
   "cell_type": "markdown",
   "metadata": {},
   "source": [
    "### Put the cleaned data back to mongodb"
   ]
  },
  {
   "cell_type": "code",
   "execution_count": 208,
   "metadata": {},
   "outputs": [
    {
     "name": "stdout",
     "output_type": "stream",
     "text": [
      "Values updated in MongoDB.\n"
     ]
    }
   ],
   "source": [
    "client = MongoClient(MONGO_URI)\n",
    "db = client[DATABASE_NAME]\n",
    "collection = db[ASSET_METADATA_COLLECTION]\n",
    "\n",
    "# Iterate through the asset_metadata_df and update the MongoDB collection\n",
    "for index, row in asset_metadata_df.iterrows():\n",
    "    collection.update_one(\n",
    "        {'Ticker': row['Ticker']},  # Match document by 'Ticker'\n",
    "        {'$set': {'Average_Dividend_per_Share': row['Average_Dividend_per_Share']}}  # Update 'Average_Dividend_per_Share'\n",
    "    )\n",
    "\n",
    "print(\"Values updated in MongoDB.\")"
   ]
  },
  {
   "cell_type": "markdown",
   "metadata": {},
   "source": [
    "# Data Cleaning"
   ]
  },
  {
   "cell_type": "markdown",
   "metadata": {},
   "source": [
    "### Check if there are any missing values"
   ]
  },
  {
   "cell_type": "code",
   "execution_count": 209,
   "metadata": {},
   "outputs": [
    {
     "name": "stdout",
     "output_type": "stream",
     "text": [
      "Visualizing missing values for 'historical_prices':\n",
      "No missing values detected.\n",
      "\n",
      "Visualizing missing values for 'asset_metadata':\n",
      "Total missing values: 10\n"
     ]
    },
    {
     "data": {
      "image/png": "[encoded data removed]",
      "text/plain": [
       "<Figure size 1000x600 with 2 Axes>"
      ]
     },
     "metadata": {},
     "output_type": "display_data"
    }
   ],
   "source": [
    "import missingno as msno\n",
    "import matplotlib.pyplot as plt\n",
    "\n",
    "# Function to visualize missing values\n",
    "def visualize_missing_values(df, title=\"Missing Values\"):\n",
    "    if df.isnull().sum().sum() == 0:\n",
    "        print(\"No missing values detected.\")\n",
    "        return\n",
    "    \n",
    "    print(f\"Total missing values: {df.isnull().sum().sum()}\")\n",
    "    msno.matrix(df, figsize=(10, 6), fontsize=12)\n",
    "    plt.title(title, fontsize=16)\n",
    "    plt.show()\n",
    "\n",
    "# Visualize missing values for historical_prices\n",
    "print(\"Visualizing missing values for 'historical_prices':\")\n",
    "visualize_missing_values(historical_prices_df, title=\"Missing Values in Historical Prices\")\n",
    "\n",
    "# Visualize missing values for asset_metadata\n",
    "print(\"\\nVisualizing missing values for 'asset_metadata':\")\n",
    "visualize_missing_values(asset_metadata_df, title=\"Missing Values in Asset Metadata\")"
   ]
  },
  {
   "cell_type": "markdown",
   "metadata": {},
   "source": [
    "### Analyze missing market cap "
   ]
  },
  {
   "cell_type": "code",
   "execution_count": 210,
   "metadata": {},
   "outputs": [
    {
     "name": "stdout",
     "output_type": "stream",
     "text": [
      "Tickers with missing Market Cap: ['IEF', 'DIA', 'IWM', 'AGG', 'HYG', 'TLT', 'VEA', 'BND', 'EEM', 'GLD', 'SPY', 'EFA', 'SHY', 'LQD', 'QQQ', 'XLK', 'VWO', 'XLE', 'XLF', 'XLV', 'XLY', 'ARKK', 'DBA', 'GNOM', 'ICLN', 'SLV', 'TAN', 'USO', 'WEAT', 'XBB', 'UNG', 'PDBC', 'FNGU', 'INDU', 'NDX', 'NQX', 'USD']\n"
     ]
    }
   ],
   "source": [
    "# Filter the DataFrame for rows where Market Cap is NaN, N/A or None\n",
    "missing_market_cap_tickers = asset_metadata_df[\n",
    "    asset_metadata_df[\"Market_Cap\"].isna() | \n",
    "    asset_metadata_df[\"Market_Cap\"].isin(['N/A', 'null', 'None', ''])  # Add more placeholders here\n",
    "][\"Ticker\"].tolist()\n",
    "\n",
    "# Print the tickers\n",
    "print(\"Tickers with missing Market Cap:\", missing_market_cap_tickers)"
   ]
  },
  {
   "cell_type": "markdown",
   "metadata": {},
   "source": [
    "### Analyze missing returns"
   ]
  },
  {
   "cell_type": "code",
   "execution_count": 211,
   "metadata": {},
   "outputs": [
    {
     "name": "stdout",
     "output_type": "stream",
     "text": [
      "Tickers with missing 1Y returns: []\n",
      "Tickers with missing 3Y returns: ['XBB']\n",
      "Tickers with missing 5Y returns: ['PLTR', 'RIVN', 'SNOW', 'XBB']\n",
      "Tickers with missing YTD returns: []\n"
     ]
    }
   ],
   "source": [
    "# Check for tickers with missing 1Y return\n",
    "missing_1y_tickers = asset_metadata_df[asset_metadata_df[\"1Y\"].isna()][\"Ticker\"].tolist()\n",
    "print(\"Tickers with missing 1Y returns:\", missing_1y_tickers)\n",
    "\n",
    "# Check for tickers with missing 3Y return\n",
    "missing_3y_tickers = asset_metadata_df[asset_metadata_df[\"3Y\"].isna()][\"Ticker\"].tolist()\n",
    "print(\"Tickers with missing 3Y returns:\", missing_3y_tickers)\n",
    "\n",
    "# Check for tickers with missing 5Y return\n",
    "missing_5y_tickers = asset_metadata_df[asset_metadata_df[\"5Y\"].isna()][\"Ticker\"].tolist()\n",
    "print(\"Tickers with missing 5Y returns:\", missing_5y_tickers)\n",
    "\n",
    "# Check for tickers with missing YTD return\n",
    "missing_ytd_tickers = asset_metadata_df[asset_metadata_df[\"YTD\"].isna()][\"Ticker\"].tolist()\n",
    "print(\"Tickers with missing YTD returns:\", missing_ytd_tickers)"
   ]
  },
  {
   "cell_type": "markdown",
   "metadata": {},
   "source": [
    "### Check the earliest date for available data"
   ]
  },
  {
   "cell_type": "code",
   "execution_count": 212,
   "metadata": {},
   "outputs": [
    {
     "name": "stdout",
     "output_type": "stream",
     "text": [
      "Asset\n",
      "PLTR   2020-09-30\n",
      "RIVN   2021-11-10\n",
      "SNOW   2020-09-17\n",
      "XBB    2022-05-26\n",
      "Name: Date, dtype: datetime64[ns]\n"
     ]
    }
   ],
   "source": [
    "tickers_to_check = ['PLTR', 'RIVN', 'SNOW', 'XBB']\n",
    "\n",
    "# Ensure 'Date' is in datetime format\n",
    "historical_prices_df['Date'] = pd.to_datetime(historical_prices_df['Date'], errors='coerce')\n",
    "\n",
    "# Filter rows and compute the minimum date for each ticker\n",
    "min_dates = (\n",
    "    historical_prices_df[historical_prices_df['Asset'].isin(tickers_to_check)]\n",
    "    .groupby('Asset')['Date']\n",
    "    .min()\n",
    ")\n",
    "\n",
    "print(min_dates)"
   ]
  },
  {
   "cell_type": "markdown",
   "metadata": {},
   "source": [
    "### Check missing sharpe_ratio"
   ]
  },
  {
   "cell_type": "code",
   "execution_count": 213,
   "metadata": {},
   "outputs": [
    {
     "name": "stdout",
     "output_type": "stream",
     "text": [
      "Tickers with missing 1Y returns: []\n"
     ]
    }
   ],
   "source": [
    "# Check for tickers with missing 1Y return\n",
    "missing_1y_tickers = asset_metadata_df[asset_metadata_df[\"Sharpe_Ratio\"].isna()][\"Ticker\"].tolist()\n",
    "print(\"Tickers with missing 1Y returns:\", missing_1y_tickers)"
   ]
  },
  {
   "cell_type": "code",
   "execution_count": 214,
   "metadata": {},
   "outputs": [
    {
     "name": "stdout",
     "output_type": "stream",
     "text": [
      "\n",
      "Visualizing missing values for 'asset_metadata':\n",
      "Total missing values: 10\n"
     ]
    },
    {
     "data": {
      "image/png": "[encoded data removed]",
      "text/plain": [
       "<Figure size 1000x600 with 2 Axes>"
      ]
     },
     "metadata": {},
     "output_type": "display_data"
    }
   ],
   "source": [
    "# Visualize missing values for asset_metadata\n",
    "print(\"\\nVisualizing missing values for 'asset_metadata':\")\n",
    "visualize_missing_values(asset_metadata_df, title=\"Missing Values in Asset Metadata\")"
   ]
  },
  {
   "cell_type": "markdown",
   "metadata": {},
   "source": [
    "### Check Risk_Adjusted_1Y or Risk_Adjusted_YTD"
   ]
  },
  {
   "cell_type": "code",
   "execution_count": 215,
   "metadata": {},
   "outputs": [
    {
     "name": "stdout",
     "output_type": "stream",
     "text": [
      "Tickers with missing values in either column: []\n"
     ]
    }
   ],
   "source": [
    "# Find tickers with missing values in either Risk_Adjusted_1Y or Risk_Adjusted_YTD\n",
    "missing_tickers = asset_metadata_df[\n",
    "    asset_metadata_df[\"Risk_Adjusted_1Y\"].isna() | asset_metadata_df[\"Risk_Adjusted_YTD\"].isna()\n",
    "][\"Ticker\"].tolist()\n",
    "\n",
    "print(\"Tickers with missing values in either column:\", missing_tickers)"
   ]
  },
  {
   "cell_type": "markdown",
   "metadata": {},
   "source": [
    "### Check missing volatility"
   ]
  },
  {
   "cell_type": "code",
   "execution_count": 216,
   "metadata": {},
   "outputs": [
    {
     "name": "stdout",
     "output_type": "stream",
     "text": [
      "Tickers with missing Annual_Volatility: []\n"
     ]
    }
   ],
   "source": [
    "# Check for tickers with missing 1Y return\n",
    "missing_1y_tickers = asset_metadata_df[asset_metadata_df[\"Annual_Volatility\"].isna()][\"Ticker\"].tolist()\n",
    "print(\"Tickers with missing Annual_Volatility:\", missing_1y_tickers)"
   ]
  },
  {
   "cell_type": "markdown",
   "metadata": {},
   "source": [
    "### Normalize date formats"
   ]
  },
  {
   "cell_type": "code",
   "execution_count": 217,
   "metadata": {},
   "outputs": [
    {
     "name": "stdout",
     "output_type": "stream",
     "text": [
      "        Date Asset     Close last_updated  last_updated_timestamp\n",
      "0 2000-01-03  AAPL  0.999442   2024-11-13 2024-11-13 00:00:13.234\n",
      "1 2000-01-04  AAPL  0.915179   2024-11-13 2024-11-13 00:00:13.234\n",
      "2 2000-01-05  AAPL  0.928571   2024-11-13 2024-11-13 00:00:13.234\n",
      "3 2000-01-19  AAPL  0.951451   2024-11-13 2024-11-13 00:00:13.234\n",
      "4 2000-01-07  AAPL  0.888393   2024-11-13 2024-11-13 00:00:13.234\n"
     ]
    }
   ],
   "source": [
    "# Normalize 'Date' column in the historical_prices DataFrame\n",
    "def normalize_date_format(df, date_column=\"Date\"):\n",
    "    \"\"\"\n",
    "    Normalize the format of the Date column in a DataFrame.\n",
    "\n",
    "    Args:\n",
    "        df (pd.DataFrame): DataFrame containing the date column.\n",
    "        date_column (str): Name of the date column to normalize.\n",
    "\n",
    "    Returns:\n",
    "        pd.DataFrame: DataFrame with normalized date format.\n",
    "    \"\"\"\n",
    "    if date_column not in df.columns:\n",
    "        print(f\"Column '{date_column}' not found in DataFrame.\")\n",
    "        return df\n",
    "\n",
    "    # Convert to datetime, handle errors, and format as YYYY-MM-DD\n",
    "    df[date_column] = pd.to_datetime(df[date_column], errors=\"coerce\")\n",
    "    \n",
    "    # Identify rows with invalid dates\n",
    "    invalid_dates = df[date_column].isnull().sum()\n",
    "    if invalid_dates > 0:\n",
    "        print(f\"Warning: {invalid_dates} invalid dates found. They have been set to NaT.\")\n",
    "    \n",
    "    return df\n",
    "\n",
    "# Normalize the 'Date' column in the historical_prices DataFrame\n",
    "historical_prices_df = normalize_date_format(historical_prices_df, date_column=\"Date\")\n",
    "\n",
    "# Display sample data\n",
    "print(historical_prices_df.head())"
   ]
  },
  {
   "cell_type": "markdown",
   "metadata": {},
   "source": [
    "### Find duplicated data"
   ]
  },
  {
   "cell_type": "code",
   "execution_count": 218,
   "metadata": {},
   "outputs": [
    {
     "name": "stdout",
     "output_type": "stream",
     "text": [
      "Grouped duplicates by Date and Asset:\n",
      "             Date Asset     Close  \\\n",
      "58624  1990-03-26  USLM  [1.0063]   \n",
      "58647  1990-03-27  USLM  [1.0063]   \n",
      "58670  1990-03-28  USLM  [1.0063]   \n",
      "58693  1990-03-29  USLM  [1.1039]   \n",
      "58716  1990-03-30  USLM  [1.1023]   \n",
      "...           ...   ...       ...   \n",
      "684514 2024-11-25  PDBC   [13.44]   \n",
      "684515 2024-11-25   UNG   [14.79]   \n",
      "684516 2024-11-25   USD   [62.76]   \n",
      "684517 2024-11-25  USLM  [148.55]   \n",
      "684518 2024-11-25  WLFC  [210.49]   \n",
      "\n",
      "                                             last_updated  \\\n",
      "58624   [2024-11-26 21:33:37.553000, 2024-11-27 01:07:54]   \n",
      "58647   [2024-11-26 21:33:37.553000, 2024-11-27 01:07:54]   \n",
      "58670   [2024-11-26 21:33:37.553000, 2024-11-27 01:07:54]   \n",
      "58693   [2024-11-26 21:33:37.553000, 2024-11-27 01:07:54]   \n",
      "58716   [2024-11-26 21:33:37.553000, 2024-11-27 01:07:54]   \n",
      "...                                                   ...   \n",
      "684514  [2024-11-26 21:33:37.553000, 2024-11-27 01:07:54]   \n",
      "684515  [2024-11-26 21:33:37.553000, 2024-11-27 01:07:54]   \n",
      "684516  [2024-11-26 21:33:37.553000, 2024-11-27 01:07:54]   \n",
      "684517  [2024-11-26 21:33:37.553000, 2024-11-27 01:07:54]   \n",
      "684518  [2024-11-26 21:33:37.553000, 2024-11-27 01:07:54]   \n",
      "\n",
      "                                   last_updated_timestamp  \n",
      "58624   [2024-11-26 21:33:37.553000, 2024-11-27 01:07:...  \n",
      "58647   [2024-11-26 21:33:37.553000, 2024-11-27 01:07:...  \n",
      "58670   [2024-11-26 21:33:37.553000, 2024-11-27 01:07:...  \n",
      "58693   [2024-11-26 21:33:37.553000, 2024-11-27 01:07:...  \n",
      "58716   [2024-11-26 21:33:37.553000, 2024-11-27 01:07:...  \n",
      "...                                                   ...  \n",
      "684514  [2024-11-26 21:33:37.553000, 2024-11-27 01:07:...  \n",
      "684515  [2024-11-26 21:33:37.553000, 2024-11-27 01:07:...  \n",
      "684516  [2024-11-26 21:33:37.553000, 2024-11-27 01:07:...  \n",
      "684517  [2024-11-26 21:33:37.553000, 2024-11-27 01:07:...  \n",
      "684518  [2024-11-26 21:33:37.553000, 2024-11-27 01:07:...  \n",
      "\n",
      "[110958 rows x 5 columns]\n"
     ]
    }
   ],
   "source": [
    "# Group by 'Date' and 'Asset' to check for differences in other columns\n",
    "duplicates_check = historical_prices_df.groupby(['Date', 'Asset']).agg(\n",
    "    {'Close': 'unique', 'last_updated': 'unique', 'last_updated_timestamp': 'unique'}\n",
    ").reset_index()\n",
    "\n",
    "# Display rows where 'Date' and 'Asset' have more than one unique value in any column\n",
    "print(\"Grouped duplicates by Date and Asset:\")\n",
    "print(duplicates_check[duplicates_check['Close'].apply(lambda x: len(x) > 1) |\n",
    "                      duplicates_check['last_updated'].apply(lambda x: len(x) > 1) |\n",
    "                      duplicates_check['last_updated_timestamp'].apply(lambda x: len(x) > 1)])\n"
   ]
  },
  {
   "cell_type": "markdown",
   "metadata": {},
   "source": [
    "### Find value counts of categorical columns"
   ]
  },
  {
   "cell_type": "code",
   "execution_count": 219,
   "metadata": {},
   "outputs": [
    {
     "name": "stdout",
     "output_type": "stream",
     "text": [
      "Total unique values in 'Ticker': 116\n",
      "Total unique values in 'Asset_Type': 5\n",
      "Total unique values in 'Sector': 11\n",
      "Total unique values in 'Industry': 40\n",
      "Total unique values in 'Exchange': 7\n",
      "Total unique values in 'Currency': 2\n",
      "Total unique values in 'Description': 114\n",
      "Total unique values in 'Beta': 75\n",
      "Total unique values in 'Dividend_Frequency': 5\n",
      "Total unique values in 'Long_Name': 116\n",
      "Total unique values in 'Market_Cap': 80\n",
      "Total unique values in 'Risk_Level': 4\n",
      "Total unique values in 'Short_Name': 116\n"
     ]
    }
   ],
   "source": [
    "# Identify categorical columns (dtype = object or category)\n",
    "categorical_columns = asset_metadata_df.select_dtypes(include=['object', 'category']).columns\n",
    "\n",
    "# Compute the total number of unique values for each categorical column\n",
    "for col in categorical_columns:\n",
    "    total_unique = asset_metadata_df[col].nunique()\n",
    "    print(f\"Total unique values in '{col}': {total_unique}\")"
   ]
  },
  {
   "cell_type": "markdown",
   "metadata": {},
   "source": [
    "# One-Hot Encoding for Sector"
   ]
  },
  {
   "cell_type": "code",
   "execution_count": 220,
   "metadata": {},
   "outputs": [
    {
     "name": "stdout",
     "output_type": "stream",
     "text": [
      "One-Hot Encoded DataFrame:\n",
      "    Ticker Asset_Type                        Industry Exchange Currency  \\\n",
      "0      AMD     EQUITY                  Semiconductors      NMS      USD   \n",
      "1     COKE     EQUITY       Beverages - Non-Alcoholic      NMS      USD   \n",
      "2       EA     EQUITY  Electronic Gaming & Multimedia      NMS      USD   \n",
      "3      IEF        ETF                             N/A      NGM      USD   \n",
      "4      JPM     EQUITY             Banks - Diversified      NYQ      USD   \n",
      "..     ...        ...                             ...      ...      ...   \n",
      "111    NDX      INDEX                             N/A      NGM      USD   \n",
      "112    NQX   ECNQUOTE                             N/A      NMS      N/A   \n",
      "113    USD        ETF                             N/A      PCX      USD   \n",
      "114   USLM     EQUITY              Building Materials      NMS      USD   \n",
      "115   WLFC     EQUITY       Rental & Leasing Services      NGM      USD   \n",
      "\n",
      "                                           Description          1Y  \\\n",
      "0    Advanced Micro Devices, Inc. operates as a sem...   12.411087   \n",
      "1    Coca-Cola Consolidated, Inc., together with it...   75.794679   \n",
      "2    Electronic Arts Inc. develops, markets, publis...   23.638537   \n",
      "3    The underlying index measures the performance ...    1.170480   \n",
      "4    JPMorgan Chase & Co. operates as a financial s...   63.196507   \n",
      "..                                                 ...         ...   \n",
      "111                                                N/A   30.340284   \n",
      "112                                                N/A   30.340183   \n",
      "113  The fund invests in financial instruments that...  174.061135   \n",
      "114  United States Lime & Minerals, Inc. manufactur...  243.461061   \n",
      "115  Willis Lease Finance Corporation operates as a...  367.250925   \n",
      "\n",
      "             3Y          5Y         YTD  ...  Sector_Communication Services  \\\n",
      "0    -12.870722  252.628879   -0.786549  ...                            0.0   \n",
      "1    116.288023  374.623498   36.319100  ...                            0.0   \n",
      "2     34.941459   72.993560   24.212166  ...                            1.0   \n",
      "3    -18.042145  -16.614559   -2.790795  ...                            0.0   \n",
      "4     59.486121  114.841778   42.236168  ...                            0.0   \n",
      "..          ...         ...         ...  ...                            ...   \n",
      "111   29.823008  146.365950   25.755352  ...                            0.0   \n",
      "112   29.822908  146.366360   25.755337  ...                            0.0   \n",
      "113  143.114468  799.307894  146.504321  ...                            0.0   \n",
      "114  494.442533  703.746307  223.794245  ...                            0.0   \n",
      "115  477.273276  257.286530  347.465482  ...                            0.0   \n",
      "\n",
      "     Sector_Consumer Cyclical Sector_Consumer Defensive  Sector_Energy  \\\n",
      "0                         0.0                       0.0            0.0   \n",
      "1                         0.0                       1.0            0.0   \n",
      "2                         0.0                       0.0            0.0   \n",
      "3                         0.0                       0.0            0.0   \n",
      "4                         0.0                       0.0            0.0   \n",
      "..                        ...                       ...            ...   \n",
      "111                       0.0                       0.0            0.0   \n",
      "112                       0.0                       0.0            0.0   \n",
      "113                       0.0                       0.0            0.0   \n",
      "114                       0.0                       0.0            0.0   \n",
      "115                       0.0                       0.0            0.0   \n",
      "\n",
      "     Sector_Financial Services  Sector_Healthcare  Sector_Industrials  \\\n",
      "0                          0.0                0.0                 0.0   \n",
      "1                          0.0                0.0                 0.0   \n",
      "2                          0.0                0.0                 0.0   \n",
      "3                          0.0                0.0                 0.0   \n",
      "4                          1.0                0.0                 0.0   \n",
      "..                         ...                ...                 ...   \n",
      "111                        0.0                0.0                 0.0   \n",
      "112                        0.0                0.0                 0.0   \n",
      "113                        0.0                0.0                 0.0   \n",
      "114                        0.0                0.0                 0.0   \n",
      "115                        0.0                0.0                 1.0   \n",
      "\n",
      "     Sector_N/A  Sector_Technology  Sector_Utilities  \n",
      "0           0.0                1.0               0.0  \n",
      "1           0.0                0.0               0.0  \n",
      "2           0.0                0.0               0.0  \n",
      "3           1.0                0.0               0.0  \n",
      "4           0.0                0.0               0.0  \n",
      "..          ...                ...               ...  \n",
      "111         1.0                0.0               0.0  \n",
      "112         1.0                0.0               0.0  \n",
      "113         1.0                0.0               0.0  \n",
      "114         0.0                0.0               0.0  \n",
      "115         0.0                0.0               0.0  \n",
      "\n",
      "[116 rows x 35 columns]\n"
     ]
    }
   ],
   "source": [
    "from sklearn.preprocessing import OneHotEncoder\n",
    "import pandas as pd\n",
    "\n",
    "data = asset_metadata_df.copy()\n",
    "\n",
    "# Apply One-Hot Encoding to the \"Sector\" column\n",
    "one_hot_encoder = OneHotEncoder(sparse_output=False, drop='first')  # Replace sparse with sparse_output\n",
    "sectors_encoded = one_hot_encoder.fit_transform(data[['Sector']])\n",
    "\n",
    "# Convert encoded sectors back to a DataFrame\n",
    "sector_columns = one_hot_encoder.get_feature_names_out(['Sector'])\n",
    "sectors_df = pd.DataFrame(sectors_encoded, columns=sector_columns)\n",
    "\n",
    "# Concatenate the encoded columns with the original data\n",
    "data = pd.concat([data.reset_index(drop=True), sectors_df.reset_index(drop=True)], axis=1)\n",
    "\n",
    "# Drop the original Sector column\n",
    "data = data.drop('Sector', axis=1)\n",
    "\n",
    "# Display the updated DataFrame\n",
    "print(\"One-Hot Encoded DataFrame:\")\n",
    "print(data)"
   ]
  },
  {
   "cell_type": "markdown",
   "metadata": {},
   "source": [
    "### One-Hot Encoding for Asset Type"
   ]
  },
  {
   "cell_type": "code",
   "execution_count": 221,
   "metadata": {},
   "outputs": [
    {
     "name": "stdout",
     "output_type": "stream",
     "text": [
      "['EQUITY' 'ETF' 'MUTUALFUND' 'INDEX' 'ECNQUOTE']\n"
     ]
    }
   ],
   "source": [
    "print(asset_metadata_df['Asset_Type'].unique())"
   ]
  },
  {
   "cell_type": "code",
   "execution_count": 222,
   "metadata": {},
   "outputs": [
    {
     "name": "stdout",
     "output_type": "stream",
     "text": [
      "One-Hot Encoded DataFrame:\n",
      "    Ticker                        Industry Exchange Currency  \\\n",
      "0      AMD                  Semiconductors      NMS      USD   \n",
      "1     COKE       Beverages - Non-Alcoholic      NMS      USD   \n",
      "2       EA  Electronic Gaming & Multimedia      NMS      USD   \n",
      "3      IEF                             N/A      NGM      USD   \n",
      "4      JPM             Banks - Diversified      NYQ      USD   \n",
      "..     ...                             ...      ...      ...   \n",
      "111    NDX                             N/A      NGM      USD   \n",
      "112    NQX                             N/A      NMS      N/A   \n",
      "113    USD                             N/A      PCX      USD   \n",
      "114   USLM              Building Materials      NMS      USD   \n",
      "115   WLFC       Rental & Leasing Services      NGM      USD   \n",
      "\n",
      "                                           Description          1Y  \\\n",
      "0    Advanced Micro Devices, Inc. operates as a sem...   12.411087   \n",
      "1    Coca-Cola Consolidated, Inc., together with it...   75.794679   \n",
      "2    Electronic Arts Inc. develops, markets, publis...   23.638537   \n",
      "3    The underlying index measures the performance ...    1.170480   \n",
      "4    JPMorgan Chase & Co. operates as a financial s...   63.196507   \n",
      "..                                                 ...         ...   \n",
      "111                                                N/A   30.340284   \n",
      "112                                                N/A   30.340183   \n",
      "113  The fund invests in financial instruments that...  174.061135   \n",
      "114  United States Lime & Minerals, Inc. manufactur...  243.461061   \n",
      "115  Willis Lease Finance Corporation operates as a...  367.250925   \n",
      "\n",
      "             3Y          5Y         YTD  Sharpe_Ratio  ...  \\\n",
      "0    -12.870722  252.628879   -0.786549      0.023558  ...   \n",
      "1    116.288023  374.623498   36.319100      0.032187  ...   \n",
      "2     34.941459   72.993560   24.212166      0.034423  ...   \n",
      "3    -18.042145  -16.614559   -2.790795     -0.010545  ...   \n",
      "4     59.486121  114.841778   42.236168      0.154228  ...   \n",
      "..          ...         ...         ...           ...  ...   \n",
      "111   29.823008  146.365950   25.755352      0.046205  ...   \n",
      "112   29.822908  146.366360   25.755337      0.046016  ...   \n",
      "113  143.114468  799.307894  146.504321      0.052331  ...   \n",
      "114  494.442533  703.746307  223.794245      0.031335  ...   \n",
      "115  477.273276  257.286530  347.465482      0.026846  ...   \n",
      "\n",
      "     Sector_Financial Services Sector_Healthcare  Sector_Industrials  \\\n",
      "0                          0.0               0.0                 0.0   \n",
      "1                          0.0               0.0                 0.0   \n",
      "2                          0.0               0.0                 0.0   \n",
      "3                          0.0               0.0                 0.0   \n",
      "4                          1.0               0.0                 0.0   \n",
      "..                         ...               ...                 ...   \n",
      "111                        0.0               0.0                 0.0   \n",
      "112                        0.0               0.0                 0.0   \n",
      "113                        0.0               0.0                 0.0   \n",
      "114                        0.0               0.0                 0.0   \n",
      "115                        0.0               0.0                 1.0   \n",
      "\n",
      "     Sector_N/A  Sector_Technology  Sector_Utilities  Asset_Type_EQUITY  \\\n",
      "0           0.0                1.0               0.0                1.0   \n",
      "1           0.0                0.0               0.0                1.0   \n",
      "2           0.0                0.0               0.0                1.0   \n",
      "3           1.0                0.0               0.0                0.0   \n",
      "4           0.0                0.0               0.0                1.0   \n",
      "..          ...                ...               ...                ...   \n",
      "111         1.0                0.0               0.0                0.0   \n",
      "112         1.0                0.0               0.0                0.0   \n",
      "113         1.0                0.0               0.0                0.0   \n",
      "114         0.0                0.0               0.0                1.0   \n",
      "115         0.0                0.0               0.0                1.0   \n",
      "\n",
      "     Asset_Type_ETF  Asset_Type_INDEX Asset_Type_MUTUALFUND  \n",
      "0               0.0               0.0                   0.0  \n",
      "1               0.0               0.0                   0.0  \n",
      "2               0.0               0.0                   0.0  \n",
      "3               1.0               0.0                   0.0  \n",
      "4               0.0               0.0                   0.0  \n",
      "..              ...               ...                   ...  \n",
      "111             0.0               1.0                   0.0  \n",
      "112             0.0               0.0                   0.0  \n",
      "113             1.0               0.0                   0.0  \n",
      "114             0.0               0.0                   0.0  \n",
      "115             0.0               0.0                   0.0  \n",
      "\n",
      "[116 rows x 38 columns]\n"
     ]
    }
   ],
   "source": [
    "# Apply One-Hot Encoding to the \"Asset_Type\" column\n",
    "one_hot_encoder = OneHotEncoder(sparse_output=False, drop='first')  # Replace sparse with sparse_output\n",
    "col_encoded = one_hot_encoder.fit_transform(data[['Asset_Type']])\n",
    "\n",
    "# Convert encoded asset_types back to a DataFrame\n",
    "columns = one_hot_encoder.get_feature_names_out(['Asset_Type'])\n",
    "encoded_df = pd.DataFrame(col_encoded, columns=columns)\n",
    "\n",
    "# Concatenate the encoded columns with the original data\n",
    "data = pd.concat([data.reset_index(drop=True), encoded_df.reset_index(drop=True)], axis=1)\n",
    "\n",
    "# Drop the original \"Asset_Type\" column\n",
    "data = data.drop('Asset_Type', axis=1)\n",
    "\n",
    "# Display the updated DataFrame\n",
    "print(\"One-Hot Encoded DataFrame:\")\n",
    "print(data)"
   ]
  },
  {
   "cell_type": "code",
   "execution_count": 223,
   "metadata": {},
   "outputs": [
    {
     "name": "stdout",
     "output_type": "stream",
     "text": [
      "<class 'pandas.core.frame.DataFrame'>\n",
      "RangeIndex: 116 entries, 0 to 115\n",
      "Data columns (total 38 columns):\n",
      " #   Column                         Non-Null Count  Dtype  \n",
      "---  ------                         --------------  -----  \n",
      " 0   Ticker                         116 non-null    object \n",
      " 1   Industry                       116 non-null    object \n",
      " 2   Exchange                       116 non-null    object \n",
      " 3   Currency                       116 non-null    object \n",
      " 4   Description                    116 non-null    object \n",
      " 5   1Y                             116 non-null    float64\n",
      " 6   3Y                             115 non-null    float64\n",
      " 7   5Y                             112 non-null    float64\n",
      " 8   YTD                            116 non-null    float64\n",
      " 9   Sharpe_Ratio                   116 non-null    float64\n",
      " 10  Sortino_Ratio                  116 non-null    float64\n",
      " 11  Beta                           116 non-null    object \n",
      " 12  Annual_Volatility              116 non-null    float64\n",
      " 13  Daily_Volatility               116 non-null    float64\n",
      " 14  Monthly_Volatility             116 non-null    float64\n",
      " 15  Quarterly_Volatility           116 non-null    float64\n",
      " 16  Risk_Adjusted_1Y               116 non-null    float64\n",
      " 17  Risk_Adjusted_YTD              116 non-null    float64\n",
      " 18  Average_Dividend_per_Share     116 non-null    float64\n",
      " 19  Dividend_Frequency             116 non-null    object \n",
      " 20  Long_Name                      116 non-null    object \n",
      " 21  Market_Cap                     111 non-null    object \n",
      " 22  Risk_Level                     116 non-null    object \n",
      " 23  Short_Name                     116 non-null    object \n",
      " 24  Sector_Communication Services  116 non-null    float64\n",
      " 25  Sector_Consumer Cyclical       116 non-null    float64\n",
      " 26  Sector_Consumer Defensive      116 non-null    float64\n",
      " 27  Sector_Energy                  116 non-null    float64\n",
      " 28  Sector_Financial Services      116 non-null    float64\n",
      " 29  Sector_Healthcare              116 non-null    float64\n",
      " 30  Sector_Industrials             116 non-null    float64\n",
      " 31  Sector_N/A                     116 non-null    float64\n",
      " 32  Sector_Technology              116 non-null    float64\n",
      " 33  Sector_Utilities               116 non-null    float64\n",
      " 34  Asset_Type_EQUITY              116 non-null    float64\n",
      " 35  Asset_Type_ETF                 116 non-null    float64\n",
      " 36  Asset_Type_INDEX               116 non-null    float64\n",
      " 37  Asset_Type_MUTUALFUND          116 non-null    float64\n",
      "dtypes: float64(27), object(11)\n",
      "memory usage: 34.6+ KB\n"
     ]
    }
   ],
   "source": [
    "data.info()"
   ]
  },
  {
   "cell_type": "markdown",
   "metadata": {},
   "source": [
    "### Categorize Market Cap based on the values in the Market_Cap column."
   ]
  },
  {
   "cell_type": "code",
   "execution_count": 224,
   "metadata": {},
   "outputs": [
    {
     "ename": "AttributeError",
     "evalue": "'float' object has no attribute 'lower'",
     "output_type": "error",
     "traceback": [
      "\u001b[1;31m---------------------------------------------------------------------------\u001b[0m",
      "\u001b[1;31mAttributeError\u001b[0m                            Traceback (most recent call last)",
      "Cell \u001b[1;32mIn[224], line 16\u001b[0m\n\u001b[0;32m     13\u001b[0m         \u001b[38;5;28;01mreturn\u001b[39;00m \u001b[38;5;124m\"\u001b[39m\u001b[38;5;124mUndefined\u001b[39m\u001b[38;5;124m\"\u001b[39m  \u001b[38;5;66;03m# Return \"Undefined\" for invalid data\u001b[39;00m\n\u001b[0;32m     15\u001b[0m \u001b[38;5;66;03m# Apply the function to the 'Market_Cap' column\u001b[39;00m\n\u001b[1;32m---> 16\u001b[0m data[\u001b[38;5;124m'\u001b[39m\u001b[38;5;124mMarket_Cap_Num\u001b[39m\u001b[38;5;124m'\u001b[39m] \u001b[38;5;241m=\u001b[39m \u001b[43mdata\u001b[49m\u001b[43m[\u001b[49m\u001b[38;5;124;43m'\u001b[39;49m\u001b[38;5;124;43mMarket_Cap\u001b[39;49m\u001b[38;5;124;43m'\u001b[39;49m\u001b[43m]\u001b[49m\u001b[38;5;241;43m.\u001b[39;49m\u001b[43mapply\u001b[49m\u001b[43m(\u001b[49m\u001b[43mconvert_market_cap_to_numeric\u001b[49m\u001b[43m)\u001b[49m\n\u001b[0;32m     18\u001b[0m \u001b[38;5;66;03m# Define market cap categories using pd.cut()\u001b[39;00m\n\u001b[0;32m     19\u001b[0m bins \u001b[38;5;241m=\u001b[39m [\u001b[38;5;241m0\u001b[39m, \u001b[38;5;241m1\u001b[39m, \u001b[38;5;241m10\u001b[39m, np\u001b[38;5;241m.\u001b[39minf]  \u001b[38;5;66;03m# Define bins for Small, Mid, Large Cap (in billions)\u001b[39;00m\n",
      "File \u001b[1;32mc:\\Users\\xnoor\\AppData\\Local\\Programs\\Python\\Python312\\Lib\\site-packages\\pandas\\core\\series.py:4924\u001b[0m, in \u001b[0;36mSeries.apply\u001b[1;34m(self, func, convert_dtype, args, by_row, **kwargs)\u001b[0m\n\u001b[0;32m   4789\u001b[0m \u001b[38;5;28;01mdef\u001b[39;00m \u001b[38;5;21mapply\u001b[39m(\n\u001b[0;32m   4790\u001b[0m     \u001b[38;5;28mself\u001b[39m,\n\u001b[0;32m   4791\u001b[0m     func: AggFuncType,\n\u001b[1;32m   (...)\u001b[0m\n\u001b[0;32m   4796\u001b[0m     \u001b[38;5;241m*\u001b[39m\u001b[38;5;241m*\u001b[39mkwargs,\n\u001b[0;32m   4797\u001b[0m ) \u001b[38;5;241m-\u001b[39m\u001b[38;5;241m>\u001b[39m DataFrame \u001b[38;5;241m|\u001b[39m Series:\n\u001b[0;32m   4798\u001b[0m \u001b[38;5;250m    \u001b[39m\u001b[38;5;124;03m\"\"\"\u001b[39;00m\n\u001b[0;32m   4799\u001b[0m \u001b[38;5;124;03m    Invoke function on values of Series.\u001b[39;00m\n\u001b[0;32m   4800\u001b[0m \n\u001b[1;32m   (...)\u001b[0m\n\u001b[0;32m   4915\u001b[0m \u001b[38;5;124;03m    dtype: float64\u001b[39;00m\n\u001b[0;32m   4916\u001b[0m \u001b[38;5;124;03m    \"\"\"\u001b[39;00m\n\u001b[0;32m   4917\u001b[0m     \u001b[38;5;28;01mreturn\u001b[39;00m \u001b[43mSeriesApply\u001b[49m\u001b[43m(\u001b[49m\n\u001b[0;32m   4918\u001b[0m \u001b[43m        \u001b[49m\u001b[38;5;28;43mself\u001b[39;49m\u001b[43m,\u001b[49m\n\u001b[0;32m   4919\u001b[0m \u001b[43m        \u001b[49m\u001b[43mfunc\u001b[49m\u001b[43m,\u001b[49m\n\u001b[0;32m   4920\u001b[0m \u001b[43m        \u001b[49m\u001b[43mconvert_dtype\u001b[49m\u001b[38;5;241;43m=\u001b[39;49m\u001b[43mconvert_dtype\u001b[49m\u001b[43m,\u001b[49m\n\u001b[0;32m   4921\u001b[0m \u001b[43m        \u001b[49m\u001b[43mby_row\u001b[49m\u001b[38;5;241;43m=\u001b[39;49m\u001b[43mby_row\u001b[49m\u001b[43m,\u001b[49m\n\u001b[0;32m   4922\u001b[0m \u001b[43m        \u001b[49m\u001b[43margs\u001b[49m\u001b[38;5;241;43m=\u001b[39;49m\u001b[43margs\u001b[49m\u001b[43m,\u001b[49m\n\u001b[0;32m   4923\u001b[0m \u001b[43m        \u001b[49m\u001b[43mkwargs\u001b[49m\u001b[38;5;241;43m=\u001b[39;49m\u001b[43mkwargs\u001b[49m\u001b[43m,\u001b[49m\n\u001b[1;32m-> 4924\u001b[0m \u001b[43m    \u001b[49m\u001b[43m)\u001b[49m\u001b[38;5;241;43m.\u001b[39;49m\u001b[43mapply\u001b[49m\u001b[43m(\u001b[49m\u001b[43m)\u001b[49m\n",
      "File \u001b[1;32mc:\\Users\\xnoor\\AppData\\Local\\Programs\\Python\\Python312\\Lib\\site-packages\\pandas\\core\\apply.py:1427\u001b[0m, in \u001b[0;36mSeriesApply.apply\u001b[1;34m(self)\u001b[0m\n\u001b[0;32m   1424\u001b[0m     \u001b[38;5;28;01mreturn\u001b[39;00m \u001b[38;5;28mself\u001b[39m\u001b[38;5;241m.\u001b[39mapply_compat()\n\u001b[0;32m   1426\u001b[0m \u001b[38;5;66;03m# self.func is Callable\u001b[39;00m\n\u001b[1;32m-> 1427\u001b[0m \u001b[38;5;28;01mreturn\u001b[39;00m \u001b[38;5;28;43mself\u001b[39;49m\u001b[38;5;241;43m.\u001b[39;49m\u001b[43mapply_standard\u001b[49m\u001b[43m(\u001b[49m\u001b[43m)\u001b[49m\n",
      "File \u001b[1;32mc:\\Users\\xnoor\\AppData\\Local\\Programs\\Python\\Python312\\Lib\\site-packages\\pandas\\core\\apply.py:1507\u001b[0m, in \u001b[0;36mSeriesApply.apply_standard\u001b[1;34m(self)\u001b[0m\n\u001b[0;32m   1501\u001b[0m \u001b[38;5;66;03m# row-wise access\u001b[39;00m\n\u001b[0;32m   1502\u001b[0m \u001b[38;5;66;03m# apply doesn't have a `na_action` keyword and for backward compat reasons\u001b[39;00m\n\u001b[0;32m   1503\u001b[0m \u001b[38;5;66;03m# we need to give `na_action=\"ignore\"` for categorical data.\u001b[39;00m\n\u001b[0;32m   1504\u001b[0m \u001b[38;5;66;03m# TODO: remove the `na_action=\"ignore\"` when that default has been changed in\u001b[39;00m\n\u001b[0;32m   1505\u001b[0m \u001b[38;5;66;03m#  Categorical (GH51645).\u001b[39;00m\n\u001b[0;32m   1506\u001b[0m action \u001b[38;5;241m=\u001b[39m \u001b[38;5;124m\"\u001b[39m\u001b[38;5;124mignore\u001b[39m\u001b[38;5;124m\"\u001b[39m \u001b[38;5;28;01mif\u001b[39;00m \u001b[38;5;28misinstance\u001b[39m(obj\u001b[38;5;241m.\u001b[39mdtype, CategoricalDtype) \u001b[38;5;28;01melse\u001b[39;00m \u001b[38;5;28;01mNone\u001b[39;00m\n\u001b[1;32m-> 1507\u001b[0m mapped \u001b[38;5;241m=\u001b[39m \u001b[43mobj\u001b[49m\u001b[38;5;241;43m.\u001b[39;49m\u001b[43m_map_values\u001b[49m\u001b[43m(\u001b[49m\n\u001b[0;32m   1508\u001b[0m \u001b[43m    \u001b[49m\u001b[43mmapper\u001b[49m\u001b[38;5;241;43m=\u001b[39;49m\u001b[43mcurried\u001b[49m\u001b[43m,\u001b[49m\u001b[43m \u001b[49m\u001b[43mna_action\u001b[49m\u001b[38;5;241;43m=\u001b[39;49m\u001b[43maction\u001b[49m\u001b[43m,\u001b[49m\u001b[43m \u001b[49m\u001b[43mconvert\u001b[49m\u001b[38;5;241;43m=\u001b[39;49m\u001b[38;5;28;43mself\u001b[39;49m\u001b[38;5;241;43m.\u001b[39;49m\u001b[43mconvert_dtype\u001b[49m\n\u001b[0;32m   1509\u001b[0m \u001b[43m\u001b[49m\u001b[43m)\u001b[49m\n\u001b[0;32m   1511\u001b[0m \u001b[38;5;28;01mif\u001b[39;00m \u001b[38;5;28mlen\u001b[39m(mapped) \u001b[38;5;129;01mand\u001b[39;00m \u001b[38;5;28misinstance\u001b[39m(mapped[\u001b[38;5;241m0\u001b[39m], ABCSeries):\n\u001b[0;32m   1512\u001b[0m     \u001b[38;5;66;03m# GH#43986 Need to do list(mapped) in order to get treated as nested\u001b[39;00m\n\u001b[0;32m   1513\u001b[0m     \u001b[38;5;66;03m#  See also GH#25959 regarding EA support\u001b[39;00m\n\u001b[0;32m   1514\u001b[0m     \u001b[38;5;28;01mreturn\u001b[39;00m obj\u001b[38;5;241m.\u001b[39m_constructor_expanddim(\u001b[38;5;28mlist\u001b[39m(mapped), index\u001b[38;5;241m=\u001b[39mobj\u001b[38;5;241m.\u001b[39mindex)\n",
      "File \u001b[1;32mc:\\Users\\xnoor\\AppData\\Local\\Programs\\Python\\Python312\\Lib\\site-packages\\pandas\\core\\base.py:921\u001b[0m, in \u001b[0;36mIndexOpsMixin._map_values\u001b[1;34m(self, mapper, na_action, convert)\u001b[0m\n\u001b[0;32m    918\u001b[0m \u001b[38;5;28;01mif\u001b[39;00m \u001b[38;5;28misinstance\u001b[39m(arr, ExtensionArray):\n\u001b[0;32m    919\u001b[0m     \u001b[38;5;28;01mreturn\u001b[39;00m arr\u001b[38;5;241m.\u001b[39mmap(mapper, na_action\u001b[38;5;241m=\u001b[39mna_action)\n\u001b[1;32m--> 921\u001b[0m \u001b[38;5;28;01mreturn\u001b[39;00m \u001b[43malgorithms\u001b[49m\u001b[38;5;241;43m.\u001b[39;49m\u001b[43mmap_array\u001b[49m\u001b[43m(\u001b[49m\u001b[43marr\u001b[49m\u001b[43m,\u001b[49m\u001b[43m \u001b[49m\u001b[43mmapper\u001b[49m\u001b[43m,\u001b[49m\u001b[43m \u001b[49m\u001b[43mna_action\u001b[49m\u001b[38;5;241;43m=\u001b[39;49m\u001b[43mna_action\u001b[49m\u001b[43m,\u001b[49m\u001b[43m \u001b[49m\u001b[43mconvert\u001b[49m\u001b[38;5;241;43m=\u001b[39;49m\u001b[43mconvert\u001b[49m\u001b[43m)\u001b[49m\n",
      "File \u001b[1;32mc:\\Users\\xnoor\\AppData\\Local\\Programs\\Python\\Python312\\Lib\\site-packages\\pandas\\core\\algorithms.py:1743\u001b[0m, in \u001b[0;36mmap_array\u001b[1;34m(arr, mapper, na_action, convert)\u001b[0m\n\u001b[0;32m   1741\u001b[0m values \u001b[38;5;241m=\u001b[39m arr\u001b[38;5;241m.\u001b[39mastype(\u001b[38;5;28mobject\u001b[39m, copy\u001b[38;5;241m=\u001b[39m\u001b[38;5;28;01mFalse\u001b[39;00m)\n\u001b[0;32m   1742\u001b[0m \u001b[38;5;28;01mif\u001b[39;00m na_action \u001b[38;5;129;01mis\u001b[39;00m \u001b[38;5;28;01mNone\u001b[39;00m:\n\u001b[1;32m-> 1743\u001b[0m     \u001b[38;5;28;01mreturn\u001b[39;00m \u001b[43mlib\u001b[49m\u001b[38;5;241;43m.\u001b[39;49m\u001b[43mmap_infer\u001b[49m\u001b[43m(\u001b[49m\u001b[43mvalues\u001b[49m\u001b[43m,\u001b[49m\u001b[43m \u001b[49m\u001b[43mmapper\u001b[49m\u001b[43m,\u001b[49m\u001b[43m \u001b[49m\u001b[43mconvert\u001b[49m\u001b[38;5;241;43m=\u001b[39;49m\u001b[43mconvert\u001b[49m\u001b[43m)\u001b[49m\n\u001b[0;32m   1744\u001b[0m \u001b[38;5;28;01melse\u001b[39;00m:\n\u001b[0;32m   1745\u001b[0m     \u001b[38;5;28;01mreturn\u001b[39;00m lib\u001b[38;5;241m.\u001b[39mmap_infer_mask(\n\u001b[0;32m   1746\u001b[0m         values, mapper, mask\u001b[38;5;241m=\u001b[39misna(values)\u001b[38;5;241m.\u001b[39mview(np\u001b[38;5;241m.\u001b[39muint8), convert\u001b[38;5;241m=\u001b[39mconvert\n\u001b[0;32m   1747\u001b[0m     )\n",
      "File \u001b[1;32mlib.pyx:2972\u001b[0m, in \u001b[0;36mpandas._libs.lib.map_infer\u001b[1;34m()\u001b[0m\n",
      "Cell \u001b[1;32mIn[224], line 3\u001b[0m, in \u001b[0;36mconvert_market_cap_to_numeric\u001b[1;34m(market_cap_str)\u001b[0m\n\u001b[0;32m      2\u001b[0m \u001b[38;5;28;01mdef\u001b[39;00m \u001b[38;5;21mconvert_market_cap_to_numeric\u001b[39m(market_cap_str):\n\u001b[1;32m----> 3\u001b[0m     market_cap_str \u001b[38;5;241m=\u001b[39m \u001b[43mmarket_cap_str\u001b[49m\u001b[38;5;241;43m.\u001b[39;49m\u001b[43mlower\u001b[49m()\n\u001b[0;32m      5\u001b[0m     \u001b[38;5;66;03m# Handle trillion, billion, and million conversions\u001b[39;00m\n\u001b[0;32m      6\u001b[0m     \u001b[38;5;28;01mif\u001b[39;00m \u001b[38;5;124m'\u001b[39m\u001b[38;5;124mtrillion\u001b[39m\u001b[38;5;124m'\u001b[39m \u001b[38;5;129;01min\u001b[39;00m market_cap_str:\n",
      "\u001b[1;31mAttributeError\u001b[0m: 'float' object has no attribute 'lower'"
     ]
    }
   ],
   "source": [
    "# Function to convert Market Cap to numeric (in billions)\n",
    "def convert_market_cap_to_numeric(market_cap_str):\n",
    "    market_cap_str = market_cap_str.lower()\n",
    "    \n",
    "    # Handle trillion, billion, and million conversions\n",
    "    if 'trillion' in market_cap_str:\n",
    "        return float(market_cap_str.split(' ')[0]) * 1000  # Convert trillion to billions\n",
    "    elif 'billion' in market_cap_str:\n",
    "        return float(market_cap_str.split(' ')[0])\n",
    "    elif 'million' in market_cap_str:\n",
    "        return float(market_cap_str.split(' ')[0]) / 1000  # Convert million to billions\n",
    "    else:\n",
    "        return \"Undefined\"  # Return \"Undefined\" for invalid data\n",
    "\n",
    "# Apply the function to the 'Market_Cap' column\n",
    "data['Market_Cap_Num'] = data['Market_Cap'].apply(convert_market_cap_to_numeric)\n",
    "\n",
    "# Define market cap categories using pd.cut()\n",
    "bins = [0, 1, 10, np.inf]  # Define bins for Small, Mid, Large Cap (in billions)\n",
    "labels = ['Small Cap', 'Mid Cap', 'Large Cap']\n",
    "\n",
    "# Assign categories based on the binned market cap values\n",
    "data['Market_Cap_Category'] = pd.cut(data['Market_Cap_Num'].apply(pd.to_numeric, errors='coerce'), bins=bins, labels=labels, right=False)\n",
    "\n",
    "# Handle \"Undefined\" by assigning it to a separate category in 'Market_Cap_Category'\n",
    "data['Market_Cap_Category'] = data['Market_Cap_Category'].cat.add_categories('Undefined')\n",
    "data['Market_Cap_Category'] = data['Market_Cap_Category'].fillna('Undefined')\n",
    "\n",
    "# Display the DataFrame with categories\n",
    "print(data[['Market_Cap', 'Market_Cap_Num', 'Market_Cap_Category']])"
   ]
  },
  {
   "cell_type": "code",
   "execution_count": null,
   "metadata": {},
   "outputs": [
    {
     "name": "stdout",
     "output_type": "stream",
     "text": [
      "<bound method DataFrame.value_counts of         Risk_Level\n",
      "0        High Risk\n",
      "1         Low Risk\n",
      "2         Low Risk\n",
      "3          Unknown\n",
      "4    Moderate Risk\n",
      "..             ...\n",
      "111        Unknown\n",
      "112        Unknown\n",
      "113        Unknown\n",
      "114       Low Risk\n",
      "115  Moderate Risk\n",
      "\n",
      "[116 rows x 1 columns]>\n"
     ]
    }
   ],
   "source": [
    "print(data[['Risk_Level']].value_counts)"
   ]
  },
  {
   "cell_type": "markdown",
   "metadata": {},
   "source": [
    "# Label Encoding "
   ]
  },
  {
   "cell_type": "code",
   "execution_count": null,
   "metadata": {},
   "outputs": [
    {
     "name": "stdout",
     "output_type": "stream",
     "text": [
      "    Ticker                        Industry Exchange Currency  \\\n",
      "0      AMD                  Semiconductors      NMS      USD   \n",
      "1     COKE       Beverages - Non-Alcoholic      NMS      USD   \n",
      "2       EA  Electronic Gaming & Multimedia      NMS      USD   \n",
      "3      IEF                             N/A      NGM      USD   \n",
      "4      JPM             Banks - Diversified      NYQ      USD   \n",
      "..     ...                             ...      ...      ...   \n",
      "111    NDX                             N/A      NGM      USD   \n",
      "112    NQX                             N/A      NMS      N/A   \n",
      "113    USD                             N/A      PCX      USD   \n",
      "114   USLM              Building Materials      NMS      USD   \n",
      "115   WLFC       Rental & Leasing Services      NGM      USD   \n",
      "\n",
      "                                           Description          1Y  \\\n",
      "0    Advanced Micro Devices, Inc. operates as a sem...   12.411087   \n",
      "1    Coca-Cola Consolidated, Inc., together with it...   75.794679   \n",
      "2    Electronic Arts Inc. develops, markets, publis...   23.638537   \n",
      "3    The underlying index measures the performance ...    1.170480   \n",
      "4    JPMorgan Chase & Co. operates as a financial s...   63.196507   \n",
      "..                                                 ...         ...   \n",
      "111                                                N/A   30.340284   \n",
      "112                                                N/A   30.340183   \n",
      "113  The fund invests in financial instruments that...  174.061135   \n",
      "114  United States Lime & Minerals, Inc. manufactur...  243.461061   \n",
      "115  Willis Lease Finance Corporation operates as a...  367.250925   \n",
      "\n",
      "             3Y          5Y         YTD  Sharpe_Ratio  ...  Sector_Healthcare  \\\n",
      "0    -12.870722  252.628879   -0.786549      0.023558  ...                0.0   \n",
      "1    116.288023  374.623498   36.319100      0.032187  ...                0.0   \n",
      "2     34.941459   72.993560   24.212166      0.034423  ...                0.0   \n",
      "3    -18.042145  -16.614559   -2.790795     -0.010545  ...                0.0   \n",
      "4     59.486121  114.841778   42.236168      0.154228  ...                0.0   \n",
      "..          ...         ...         ...           ...  ...                ...   \n",
      "111   29.823008  146.365950   25.755352      0.046205  ...                0.0   \n",
      "112   29.822908  146.366360   25.755337      0.046016  ...                0.0   \n",
      "113  143.114468  799.307894  146.504321      0.052331  ...                0.0   \n",
      "114  494.442533  703.746307  223.794245      0.031335  ...                0.0   \n",
      "115  477.273276  257.286530  347.465482      0.026846  ...                0.0   \n",
      "\n",
      "    Sector_Industrials  Sector_N/A  Sector_Technology  Sector_Utilities  \\\n",
      "0                  0.0         0.0                1.0               0.0   \n",
      "1                  0.0         0.0                0.0               0.0   \n",
      "2                  0.0         0.0                0.0               0.0   \n",
      "3                  0.0         1.0                0.0               0.0   \n",
      "4                  0.0         0.0                0.0               0.0   \n",
      "..                 ...         ...                ...               ...   \n",
      "111                0.0         1.0                0.0               0.0   \n",
      "112                0.0         1.0                0.0               0.0   \n",
      "113                0.0         1.0                0.0               0.0   \n",
      "114                0.0         0.0                0.0               0.0   \n",
      "115                1.0         0.0                0.0               0.0   \n",
      "\n",
      "     Asset_Type_EQUITY  Asset_Type_ETF  Asset_Type_INDEX  \\\n",
      "0                  1.0             0.0               0.0   \n",
      "1                  1.0             0.0               0.0   \n",
      "2                  1.0             0.0               0.0   \n",
      "3                  0.0             1.0               0.0   \n",
      "4                  1.0             0.0               0.0   \n",
      "..                 ...             ...               ...   \n",
      "111                0.0             0.0               1.0   \n",
      "112                0.0             0.0               0.0   \n",
      "113                0.0             1.0               0.0   \n",
      "114                1.0             0.0               0.0   \n",
      "115                1.0             0.0               0.0   \n",
      "\n",
      "     Asset_Type_MUTUALFUND Risk_Level_Encoded  \n",
      "0                      0.0                  2  \n",
      "1                      0.0                  0  \n",
      "2                      0.0                  0  \n",
      "3                      0.0                  3  \n",
      "4                      0.0                  1  \n",
      "..                     ...                ...  \n",
      "111                    0.0                  3  \n",
      "112                    0.0                  3  \n",
      "113                    0.0                  3  \n",
      "114                    0.0                  0  \n",
      "115                    0.0                  1  \n",
      "\n",
      "[116 rows x 39 columns]\n"
     ]
    }
   ],
   "source": [
    "# Define a mapping for the ordinal categories\n",
    "risk_level_mapping = {\n",
    "    'Low Risk': 0,\n",
    "    'Moderate Risk': 1,\n",
    "    'High Risk': 2,\n",
    "    'Unknown': 3\n",
    "}\n",
    "\n",
    "# Apply the mapping to the 'Risk_Level' column and create a new encoded column\n",
    "data['Risk_Level_Encoded'] = data['Risk_Level'].map(risk_level_mapping)\n",
    "\n",
    "# Display the updated DataFrame\n",
    "print(data)"
   ]
  },
  {
   "cell_type": "code",
   "execution_count": null,
   "metadata": {},
   "outputs": [],
   "source": []
  }
 ],
 "metadata": {
  "kernelspec": {
   "display_name": "Python 3",
   "language": "python",
   "name": "python3"
  },
  "language_info": {
   "codemirror_mode": {
    "name": "ipython",
    "version": 3
   },
   "file_extension": ".py",
   "mimetype": "text/x-python",
   "name": "python",
   "nbconvert_exporter": "python",
   "pygments_lexer": "ipython3",
   "version": "3.12.7"
  }
 },
 "nbformat": 4,
 "nbformat_minor": 2
}
