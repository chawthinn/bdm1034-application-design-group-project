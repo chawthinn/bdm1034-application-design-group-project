{
 "cells": [
  {
   "cell_type": "markdown",
   "metadata": {},
   "source": [
    "# Load Dataset"
   ]
  },
  {
   "cell_type": "markdown",
   "metadata": {},
   "source": [
    "### Import Libraries"
   ]
  },
  {
   "cell_type": "code",
   "execution_count": null,
   "metadata": {},
   "outputs": [],
   "source": [
    "import os\n",
    "from dotenv import load_dotenv"
   ]
  },
  {
   "cell_type": "markdown",
   "metadata": {},
   "source": [
    "### Load Historical Prices"
   ]
  },
  {
   "cell_type": "code",
   "execution_count": null,
   "metadata": {},
   "outputs": [],
   "source": [
    "# Load environment variables\n",
    "load_dotenv()\n",
    "\n",
    "# MongoDB Connection Setup\n",
    "MONGO_URI = os.getenv(\"MONGO_URI\")\n",
    "if not MONGO_URI:\n",
    "    raise ValueError(\"MONGO_URI not found in environment variables. Please check your .env file.\")\n",
    "\n",
    "DATABASE_NAME = \"robo_advisor\"\n",
    "HISTORICAL_PRICES_COLLECTION = \"historical_prices\"\n",
    "\n",
    "# Load Historical Prices\n",
    "def load_historical_prices():\n",
    "    client = MongoClient(MONGO_URI)\n",
    "    db = client[DATABASE_NAME]\n",
    "    collection = db[HISTORICAL_PRICES_COLLECTION]\n",
    "    \n",
    "    # Fetch all historical prices\n",
    "    data = list(collection.find({}, {\"_id\": 0}))  # Exclude MongoDB `_id` field for simplicity\n",
    "    if not data:\n",
    "        print(\"No data found in historical_prices collection.\")\n",
    "        return pd.DataFrame()\n",
    "    \n",
    "    # Convert to DataFrame\n",
    "    df = pd.DataFrame(data)\n",
    "    print(f\"Loaded {len(df)} records from historical_prices collection.\")\n",
    "    return df\n",
    "\n",
    "# Load and display\n",
    "historical_prices_df = load_historical_prices()\n",
    "historical_prices_df.head()"
   ]
  },
  {
   "cell_type": "markdown",
   "metadata": {},
   "source": [
    "### Load Asset Metadata"
   ]
  },
  {
   "cell_type": "code",
   "execution_count": null,
   "metadata": {},
   "outputs": [],
   "source": [
    "# Asset Metadata Collection\n",
    "ASSET_METADATA_COLLECTION = \"asset_metadata\"\n",
    "\n",
    "# Load Asset Metadata\n",
    "def load_asset_metadata():\n",
    "    client = MongoClient(MONGO_URI)\n",
    "    db = client[DATABASE_NAME]\n",
    "    collection = db[ASSET_METADATA_COLLECTION]\n",
    "    \n",
    "    # Fetch all asset metadata\n",
    "    data = list(collection.find({}, {\"_id\": 0}))  # Exclude MongoDB `_id` field for simplicity\n",
    "    if not data:\n",
    "        print(\"No data found in asset_metadata collection.\")\n",
    "        return pd.DataFrame()\n",
    "    \n",
    "    # Convert to DataFrame\n",
    "    df = pd.DataFrame(data)\n",
    "    print(f\"Loaded {len(df)} records from asset_metadata collection.\")\n",
    "    return df\n",
    "\n",
    "# Load and display\n",
    "asset_metadata_df = load_asset_metadata()\n",
    "asset_metadata_df.head()"
   ]
  },
  {
   "cell_type": "markdown",
   "metadata": {},
   "source": [
    "# Data Cleaning"
   ]
  },
  {
   "cell_type": "markdown",
   "metadata": {},
   "source": [
    "Ensure all data is clean and consistent:\n",
    "- Handle missing values (e.g., impute or drop).\n",
    "- Normalize date formats (e.g., consistent Date fields).\n",
    "- Standardize numerical fields (e.g., ensure returns, volatility are floats).\n",
    "- Drop irrelevant or redundant fields."
   ]
  },
  {
   "cell_type": "markdown",
   "metadata": {},
   "source": [
    "### Check if there are any missing values"
   ]
  },
  {
   "cell_type": "code",
   "execution_count": null,
   "metadata": {},
   "outputs": [],
   "source": [
    "import missingno as msno\n",
    "import matplotlib.pyplot as plt\n",
    "\n",
    "# Function to visualize missing values\n",
    "def visualize_missing_values(df, title=\"Missing Values\"):\n",
    "    if df.isnull().sum().sum() == 0:\n",
    "        print(\"No missing values detected.\")\n",
    "        return\n",
    "    \n",
    "    print(f\"Total missing values: {df.isnull().sum().sum()}\")\n",
    "    msno.matrix(df, figsize=(10, 6), fontsize=12)\n",
    "    plt.title(title, fontsize=16)\n",
    "    plt.show()\n",
    "\n",
    "# Visualize missing values for historical_prices\n",
    "print(\"Visualizing missing values for 'historical_prices':\")\n",
    "visualize_missing_values(historical_prices_df, title=\"Missing Values in Historical Prices\")\n",
    "\n",
    "# Visualize missing values for asset_metadata\n",
    "print(\"\\nVisualizing missing values for 'asset_metadata':\")\n",
    "visualize_missing_values(asset_metadata_df, title=\"Missing Values in Asset Metadata\")"
   ]
  },
  {
   "cell_type": "markdown",
   "metadata": {},
   "source": [
    "**Observation**\n",
    "\n",
    "xxxxx"
   ]
  },
  {
   "cell_type": "markdown",
   "metadata": {},
   "source": [
    "### Normalize date formats"
   ]
  },
  {
   "cell_type": "code",
   "execution_count": null,
   "metadata": {},
   "outputs": [],
   "source": [
    "# Normalize 'Date' column in the historical_prices DataFrame\n",
    "def normalize_date_format(df, date_column=\"Date\"):\n",
    "    \"\"\"\n",
    "    Normalize the format of the Date column in a DataFrame.\n",
    "\n",
    "    Args:\n",
    "        df (pd.DataFrame): DataFrame containing the date column.\n",
    "        date_column (str): Name of the date column to normalize.\n",
    "\n",
    "    Returns:\n",
    "        pd.DataFrame: DataFrame with normalized date format.\n",
    "    \"\"\"\n",
    "    if date_column not in df.columns:\n",
    "        print(f\"Column '{date_column}' not found in DataFrame.\")\n",
    "        return df\n",
    "\n",
    "    # Convert to datetime, handle errors, and format as YYYY-MM-DD\n",
    "    df[date_column] = pd.to_datetime(df[date_column], errors=\"coerce\")\n",
    "    \n",
    "    # Identify rows with invalid dates\n",
    "    invalid_dates = df[date_column].isnull().sum()\n",
    "    if invalid_dates > 0:\n",
    "        print(f\"Warning: {invalid_dates} invalid dates found. They have been set to NaT.\")\n",
    "    \n",
    "    return df\n",
    "\n",
    "# Normalize the 'Date' column in the historical_prices DataFrame\n",
    "historical_prices_df = normalize_date_format(historical_prices_df, date_column=\"Date\")\n",
    "\n",
    "# Display sample data\n",
    "print(historical_prices_df.head())"
   ]
  }
 ],
 "metadata": {
  "kernelspec": {
   "display_name": "Python 3",
   "language": "python",
   "name": "python3"
  },
  "language_info": {
   "name": "python",
   "version": "3.12.7"
  }
 },
 "nbformat": 4,
 "nbformat_minor": 2
}
