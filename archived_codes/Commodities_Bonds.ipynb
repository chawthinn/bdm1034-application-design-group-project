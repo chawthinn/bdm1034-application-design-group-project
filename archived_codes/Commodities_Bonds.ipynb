{
 "cells": [
  {
   "cell_type": "code",
   "execution_count": 2,
   "id": "3a94967b-25a4-4353-8267-3c451a3ea2b8",
   "metadata": {},
   "outputs": [
    {
     "name": "stderr",
     "output_type": "stream",
     "text": [
      "[*********************100%***********************]  1 of 1 completed\n"
     ]
    },
    {
     "name": "stdout",
     "output_type": "stream",
     "text": [
      "GC=F 10-year OHLC data saved to GC_ohlc_10yrs.csv\n"
     ]
    },
    {
     "name": "stderr",
     "output_type": "stream",
     "text": [
      "[*********************100%***********************]  1 of 1 completed\n"
     ]
    },
    {
     "name": "stdout",
     "output_type": "stream",
     "text": [
      "SI=F 10-year OHLC data saved to SI_ohlc_10yrs.csv\n"
     ]
    },
    {
     "name": "stderr",
     "output_type": "stream",
     "text": [
      "[*********************100%***********************]  1 of 1 completed\n",
      "[*********************100%***********************]  1 of 1 completed\n"
     ]
    },
    {
     "name": "stdout",
     "output_type": "stream",
     "text": [
      "HG=F 10-year OHLC data saved to HG_ohlc_10yrs.csv\n",
      "CL=F 10-year OHLC data saved to CL_ohlc_10yrs.csv\n"
     ]
    },
    {
     "name": "stderr",
     "output_type": "stream",
     "text": [
      "[*********************100%***********************]  1 of 1 completed\n",
      "[*********************100%***********************]  1 of 1 completed"
     ]
    },
    {
     "name": "stdout",
     "output_type": "stream",
     "text": [
      "BZ=F 10-year OHLC data saved to BZ_ohlc_10yrs.csv\n"
     ]
    },
    {
     "name": "stderr",
     "output_type": "stream",
     "text": [
      "\n",
      "[*********************100%***********************]  1 of 1 completed\n"
     ]
    },
    {
     "name": "stdout",
     "output_type": "stream",
     "text": [
      "NG=F 10-year OHLC data saved to NG_ohlc_10yrs.csv\n",
      "ZC=F 10-year OHLC data saved to ZC_ohlc_10yrs.csv\n"
     ]
    },
    {
     "name": "stderr",
     "output_type": "stream",
     "text": [
      "[*********************100%***********************]  1 of 1 completed\n",
      "[*********************100%***********************]  1 of 1 completed\n"
     ]
    },
    {
     "name": "stdout",
     "output_type": "stream",
     "text": [
      "ZO=F 10-year OHLC data saved to ZO_ohlc_10yrs.csv\n",
      "KE=F 10-year OHLC data saved to KE_ohlc_10yrs.csv\n"
     ]
    },
    {
     "name": "stderr",
     "output_type": "stream",
     "text": [
      "[*********************100%***********************]  1 of 1 completed\n",
      "[*********************100%***********************]  1 of 1 completed\n"
     ]
    },
    {
     "name": "stdout",
     "output_type": "stream",
     "text": [
      "ZR=F 10-year OHLC data saved to ZR_ohlc_10yrs.csv\n",
      "ZS=F 10-year OHLC data saved to ZS_ohlc_10yrs.csv\n"
     ]
    },
    {
     "name": "stderr",
     "output_type": "stream",
     "text": [
      "[*********************100%***********************]  1 of 1 completed\n",
      "[*********************100%***********************]  1 of 1 completed\n"
     ]
    },
    {
     "name": "stdout",
     "output_type": "stream",
     "text": [
      "GF=F 10-year OHLC data saved to GF_ohlc_10yrs.csv\n",
      "HE=F 10-year OHLC data saved to HE_ohlc_10yrs.csv\n"
     ]
    },
    {
     "name": "stderr",
     "output_type": "stream",
     "text": [
      "[*********************100%***********************]  1 of 1 completed\n",
      "[*********************100%***********************]  1 of 1 completed\n"
     ]
    },
    {
     "name": "stdout",
     "output_type": "stream",
     "text": [
      "LE=F 10-year OHLC data saved to LE_ohlc_10yrs.csv\n"
     ]
    },
    {
     "name": "stderr",
     "output_type": "stream",
     "text": [
      "[*********************100%***********************]  1 of 1 completed"
     ]
    },
    {
     "name": "stdout",
     "output_type": "stream",
     "text": [
      "CC=F 10-year OHLC data saved to CC_ohlc_10yrs.csv\n",
      "KC=F 10-year OHLC data saved to KC_ohlc_10yrs.csv\n"
     ]
    },
    {
     "name": "stderr",
     "output_type": "stream",
     "text": [
      "\n",
      "[*********************100%***********************]  1 of 1 completed\n",
      "[*********************100%***********************]  1 of 1 completed"
     ]
    },
    {
     "name": "stdout",
     "output_type": "stream",
     "text": [
      "CT=F 10-year OHLC data saved to CT_ohlc_10yrs.csv\n"
     ]
    },
    {
     "name": "stderr",
     "output_type": "stream",
     "text": [
      "\n"
     ]
    },
    {
     "name": "stdout",
     "output_type": "stream",
     "text": [
      "LBS=F 10-year OHLC data saved to LBS_ohlc_10yrs.csv\n"
     ]
    },
    {
     "name": "stderr",
     "output_type": "stream",
     "text": [
      "[*********************100%***********************]  1 of 1 completed\n",
      "[*********************100%***********************]  1 of 1 completed"
     ]
    },
    {
     "name": "stdout",
     "output_type": "stream",
     "text": [
      "OJ=F 10-year OHLC data saved to OJ_ohlc_10yrs.csv\n",
      "SB=F 10-year OHLC data saved to SB_ohlc_10yrs.csv\n"
     ]
    },
    {
     "name": "stderr",
     "output_type": "stream",
     "text": [
      "\n"
     ]
    }
   ],
   "source": [
    "import yfinance as yf\n",
    "from datetime import datetime\n",
    "\n",
    "# List of commodity symbols from Yahoo Finance\n",
    "commodity_symbols = [\n",
    "    \"GC=F\", \"SI=F\", \"HG=F\", \"CL=F\", \"BZ=F\", \"NG=F\",\n",
    "    \"ZC=F\", \"ZO=F\", \"KE=F\", \"ZR=F\", \"ZS=F\", \"GF=F\",\n",
    "    \"HE=F\", \"LE=F\", \"CC=F\", \"KC=F\", \"CT=F\", \"LBS=F\",\n",
    "    \"OJ=F\", \"SB=F\"\n",
    "]\n",
    "\n",
    "# Function to fetch 10 years of OHLC data for a commodity and save to CSV\n",
    "def save_commodity_ohlc_data(ticker, years=10):\n",
    "    \"\"\"\n",
    "    Fetch and save OHLC historical data for a specified commodity from Yahoo Finance for a given number of years.\n",
    "\n",
    "    Parameters:\n",
    "    - ticker (str): The ticker symbol of the commodity.\n",
    "    - years (int): The number of years of data to fetch.\n",
    "    \"\"\"\n",
    "    # Calculate the start and end dates\n",
    "    end_date = datetime.today()\n",
    "    start_date = end_date.replace(year=end_date.year - years)\n",
    "\n",
    "    # Fetch data\n",
    "    data = yf.download(ticker, start=start_date.strftime('%Y-%m-%d'), end=end_date.strftime('%Y-%m-%d'))\n",
    "    \n",
    "    # Select only the OHLC columns\n",
    "    ohlc_data = data[['Open', 'High', 'Low', 'Close']]\n",
    "    \n",
    "    # Save to CSV\n",
    "    filename = f\"{ticker.replace('=F', '')}_ohlc_10yrs.csv\"\n",
    "    ohlc_data.to_csv(filename)\n",
    "    print(f\"{ticker} 10-year OHLC data saved to {filename}\")\n",
    "\n",
    "# Loop through each commodity symbol and save the data\n",
    "for symbol in commodity_symbols:\n",
    "    save_commodity_ohlc_data(symbol)\n"
   ]
  },
  {
   "cell_type": "markdown",
   "id": "68d20479-c7b4-4615-9823-8d0d963dc433",
   "metadata": {},
   "source": [
    "### Download the Commodity Spot Price"
   ]
  },
  {
   "cell_type": "code",
   "execution_count": null,
   "id": "3af3bffc-0422-43db-8ed0-81b35640a6fd",
   "metadata": {},
   "outputs": [],
   "source": [
    "#Trying below code, but failing. \n",
    "#Output shows empty spot price \n",
    "#Already changed the date from current to 3 days before today's data but still got an issue\n",
    "\n",
    "import yfinance as yf\n",
    "import pandas as pd\n",
    "from datetime import datetime, timedelta\n",
    "\n",
    "# List of commodity symbols from Yahoo Finance\n",
    "commodity_symbols = [\n",
    "    \"GC=F\", \"SI=F\", \"HG=F\", \"CL=F\", \"BZ=F\", \"NG=F\",\n",
    "    \"ZC=F\", \"ZO=F\", \"KE=F\", \"ZR=F\", \"ZS=F\", \"GF=F\",\n",
    "    \"HE=F\", \"LE=F\", \"CC=F\", \"KC=F\", \"CT=F\", \"LBS=F\",\n",
    "    \"OJ=F\", \"SB=F\"\n",
    "]\n",
    "\n",
    "# Calculate the start and end dates for three days ago\n",
    "end_date = datetime.today() - timedelta(days=3)\n",
    "start_date = end_date - timedelta(days=1)  # One day range to capture data for that specific day\n",
    "\n",
    "# DataFrame to store spot prices for all commodities\n",
    "spot_prices = pd.DataFrame(columns=[\"Commodity\", \"Spot Price\", \"Date\"])\n",
    "\n",
    "# Loop through each commodity and get the spot price from three days ago\n",
    "for symbol in commodity_symbols:\n",
    "    data = yf.download(symbol, start=start_date.strftime('%Y-%m-%d'), end=end_date.strftime('%Y-%m-%d'), interval=\"1d\")\n",
    "    \n",
    "    # Check if data was successfully retrieved\n",
    "    if not data.empty:\n",
    "        latest_price = data[\"Close\"].iloc[-1]  # Get the close price from three days ago\n",
    "        latest_date = data.index[-1].date()  # Get the date of the latest price\n",
    "        \n",
    "        # Create a DataFrame for the new row and concatenate\n",
    "        new_row = pd.DataFrame({\"Commodity\": [symbol], \"Spot Price\": [latest_price], \"Date\": [latest_date]})\n",
    "        spot_prices = pd.concat([spot_prices, new_row], ignore_index=True)\n",
    "        \n",
    "        print(f\"{symbol}: Spot Price = {latest_price} on {latest_date}\")\n",
    "    else:\n",
    "        print(f\"Failed to retrieve data for {symbol}\")\n",
    "\n",
    "# Save the spot prices to a CSV file\n",
    "spot_prices.to_csv(\"commodity_spot_prices_3_days_ago.csv\", index=False)\n",
    "print(\"\\nSpot prices for commodities saved to commodity_spot_prices_3_days_ago.csv\")\n"
   ]
  },
  {
   "cell_type": "code",
   "execution_count": 8,
   "id": "2bf8622c-cc81-4c21-98b5-fd4e05c454c2",
   "metadata": {},
   "outputs": [
    {
     "name": "stdout",
     "output_type": "stream",
     "text": [
      "Collecting tradingeconomics\n",
      "  Downloading tradingeconomics-4.4.0-py3-none-any.whl.metadata (2.4 kB)\n",
      "Requirement already satisfied: pandas in c:\\users\\joyce\\appdata\\local\\programs\\python\\python313\\lib\\site-packages (from tradingeconomics) (2.2.3)\n",
      "Requirement already satisfied: websocket-client in c:\\users\\joyce\\appdata\\local\\programs\\python\\python313\\lib\\site-packages (from tradingeconomics) (1.8.0)\n",
      "Requirement already satisfied: numpy>=1.26.0 in c:\\users\\joyce\\appdata\\local\\programs\\python\\python313\\lib\\site-packages (from pandas->tradingeconomics) (2.1.3)\n",
      "Requirement already satisfied: python-dateutil>=2.8.2 in c:\\users\\joyce\\appdata\\local\\programs\\python\\python313\\lib\\site-packages (from pandas->tradingeconomics) (2.9.0.post0)\n",
      "Requirement already satisfied: pytz>=2020.1 in c:\\users\\joyce\\appdata\\local\\programs\\python\\python313\\lib\\site-packages (from pandas->tradingeconomics) (2024.2)\n",
      "Requirement already satisfied: tzdata>=2022.7 in c:\\users\\joyce\\appdata\\local\\programs\\python\\python313\\lib\\site-packages (from pandas->tradingeconomics) (2024.2)\n",
      "Requirement already satisfied: six>=1.5 in c:\\users\\joyce\\appdata\\local\\programs\\python\\python313\\lib\\site-packages (from python-dateutil>=2.8.2->pandas->tradingeconomics) (1.16.0)\n",
      "Downloading tradingeconomics-4.4.0-py3-none-any.whl (56 kB)\n",
      "Installing collected packages: tradingeconomics\n",
      "Successfully installed tradingeconomics-4.4.0\n",
      "Note: you may need to restart the kernel to use updated packages.\n"
     ]
    },
    {
     "name": "stderr",
     "output_type": "stream",
     "text": [
      "\n",
      "[notice] A new release of pip is available: 24.2 -> 24.3.1\n",
      "[notice] To update, run: python.exe -m pip install --upgrade pip\n"
     ]
    }
   ],
   "source": [
    "pip install tradingeconomics\n"
   ]
  },
  {
   "cell_type": "markdown",
   "id": "19094c69-21d5-4c42-8baf-a99e2427bc68",
   "metadata": {},
   "source": [
    "### Extracting US Treasury Bonds\n",
    "#### ^TNX: 10-Year Treasury Bond Yield\n",
    "\n",
    "#### ^TYX: 30-Year Treasury Bond Yield\n",
    "\n",
    "#### ^FVX: 5-Year Treasury Bond Yield\n",
    "\n",
    "#### ^IRX: 13-Week Treasury Bill Yield"
   ]
  },
  {
   "cell_type": "code",
   "execution_count": 20,
   "id": "64ec5c77-7467-4f3a-a1cf-1128aa33e7a4",
   "metadata": {},
   "outputs": [
    {
     "name": "stderr",
     "output_type": "stream",
     "text": [
      "[*********************100%***********************]  1 of 1 completed\n",
      "[*********************100%***********************]  1 of 1 completed\n",
      "[*********************100%***********************]  1 of 1 completed\n",
      "[*********************100%***********************]  1 of 1 completed"
     ]
    },
    {
     "name": "stdout",
     "output_type": "stream",
     "text": [
      "Fetched 10 years of data for ^TNX\n",
      "Fetched 10 years of data for ^TYX\n",
      "Fetched 10 years of data for ^FVX\n",
      "Fetched 10 years of data for ^IRX\n",
      "\n",
      "Bond Yields DataFrame:\n",
      "Price                       Date   ^TNX   ^TYX   ^FVX   ^IRX\n",
      "Ticker                             ^TNX   ^TYX   ^FVX   ^IRX\n",
      "0      2014-11-10 00:00:00+00:00  2.359  3.088  1.641  0.015\n",
      "1      2014-11-11 00:00:00+00:00  2.360  3.092  1.640  0.015\n",
      "2      2014-11-12 00:00:00+00:00  2.359  3.080  1.640  0.013\n",
      "3      2014-11-13 00:00:00+00:00  2.347  3.076  1.623  0.005\n",
      "4      2014-11-14 00:00:00+00:00  2.320  3.042  1.604  0.003\n",
      "\n",
      "Bond yields for the last 10 years saved to bond_yields_10_years.csv\n"
     ]
    },
    {
     "name": "stderr",
     "output_type": "stream",
     "text": [
      "\n"
     ]
    }
   ],
   "source": [
    "import yfinance as yf\n",
    "import pandas as pd\n",
    "from datetime import datetime\n",
    "\n",
    "# List of bond yield symbols on Yahoo Finance\n",
    "bond_symbols = [\"^TNX\", \"^TYX\", \"^FVX\", \"^IRX\"]\n",
    "\n",
    "# Set the start and end dates for a 10-year range\n",
    "end_date = datetime.today()\n",
    "start_date = end_date.replace(year=end_date.year - 10)\n",
    "\n",
    "# Initialize an empty list to store each bond's yield data as a DataFrame\n",
    "bond_yield_data = []\n",
    "\n",
    "# Fetch 10 years of yield data for each bond\n",
    "for symbol in bond_symbols:\n",
    "    # Fetch data over a 10-year period\n",
    "    data = yf.download(symbol, start=start_date.strftime('%Y-%m-%d'), end=end_date.strftime('%Y-%m-%d'), interval=\"1d\")\n",
    "    \n",
    "    # Check if data was successfully retrieved\n",
    "    if not data.empty:\n",
    "        # Rename the 'Close' column to the bond symbol and keep only this column\n",
    "        data = data[['Close']].rename(columns={'Close': symbol})\n",
    "        # Append this bond's DataFrame to the list\n",
    "        bond_yield_data.append(data)\n",
    "        print(f\"Fetched 10 years of data for {symbol}\")\n",
    "    else:\n",
    "        print(f\"Failed to retrieve data for {symbol}\")\n",
    "\n",
    "# Concatenate all bond DataFrames along the columns (align by date index)\n",
    "bond_yields_df = pd.concat(bond_yield_data, axis=1)\n",
    "\n",
    "# Reset the index to make Date a column\n",
    "bond_yields_df.index.name = 'Date'\n",
    "bond_yields_df.reset_index(inplace=True)\n",
    "\n",
    "# Display bond yields\n",
    "print(\"\\nBond Yields DataFrame:\")\n",
    "print(bond_yields_df.head())\n",
    "\n",
    "# Save bond yields to CSV\n",
    "bond_yields_df.to_csv(\"bond_yields_10_years.csv\", index=False)\n",
    "print(\"\\nBond yields for the last 10 years saved to bond_yields_10_years.csv\")\n"
   ]
  },
  {
   "cell_type": "code",
   "execution_count": null,
   "id": "9409e908-1a83-4141-9dc9-e29520a73f17",
   "metadata": {},
   "outputs": [],
   "source": []
  }
 ],
 "metadata": {
  "kernelspec": {
   "display_name": "Python 3 (ipykernel)",
   "language": "python",
   "name": "python3"
  },
  "language_info": {
   "codemirror_mode": {
    "name": "ipython",
    "version": 3
   },
   "file_extension": ".py",
   "mimetype": "text/x-python",
   "name": "python",
   "nbconvert_exporter": "python",
   "pygments_lexer": "ipython3",
   "version": "3.13.0"
  }
 },
 "nbformat": 4,
 "nbformat_minor": 5
}
