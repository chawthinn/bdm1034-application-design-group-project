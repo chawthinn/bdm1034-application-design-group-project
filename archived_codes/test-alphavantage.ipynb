{
 "cells": [
  {
   "cell_type": "code",
   "execution_count": 1,
   "metadata": {},
   "outputs": [],
   "source": [
    "import requests\n",
    "import pandas as pd\n",
    "\n",
    "# Your API key\n",
    "api_key = '9XNXZQWQEK8QMG3P'\n",
    "\n",
    "# List of stock symbols\n",
    "stock_symbols = ['AAPL', 'GOOGL', 'TSLA']\n",
    "\n",
    "# Initialize an empty DataFrame to store all data\n",
    "all_stock_data = pd.DataFrame()"
   ]
  },
  {
   "cell_type": "code",
   "execution_count": 2,
   "metadata": {},
   "outputs": [
    {
     "name": "stdout",
     "output_type": "stream",
     "text": [
      "         Date      Open      High       Low     Close    Volume Symbol\n",
      "0  2024-10-25  229.7400  233.2200  229.5700  231.4100  38802304   AAPL\n",
      "1  2024-10-24  229.9800  230.8200  228.4100  230.5700  31109503   AAPL\n",
      "2  2024-10-23  234.0800  235.1440  227.7600  230.7600  52286979   AAPL\n",
      "3  2024-10-22  233.8850  236.2200  232.6000  235.8600  38846578   AAPL\n",
      "4  2024-10-21  234.4500  236.8500  234.4500  236.4800  36254470   AAPL\n"
     ]
    }
   ],
   "source": [
    "# Loop through each stock symbol to fetch data\n",
    "for symbol in stock_symbols:\n",
    "    url = f'https://www.alphavantage.co/query?function=TIME_SERIES_DAILY&symbol={symbol}&apikey={api_key}&outputsize=full'\n",
    "    \n",
    "    # Make the API call\n",
    "    response = requests.get(url)\n",
    "    data = response.json()\n",
    "    \n",
    "    # Check if the response contains the expected data\n",
    "    if 'Time Series (Daily)' in data:\n",
    "        df = pd.DataFrame(data['Time Series (Daily)']).T\n",
    "        df.columns = ['Open', 'High', 'Low', 'Close', 'Volume']\n",
    "        df['Symbol'] = symbol\n",
    "        all_stock_data = pd.concat([all_stock_data, df])\n",
    "\n",
    "# Reset index and display the combined DataFrame\n",
    "all_stock_data.reset_index(inplace=True)\n",
    "all_stock_data.rename(columns={'index': 'Date'}, inplace=True)\n",
    "print(all_stock_data.all())"
   ]
  },
  {
   "cell_type": "code",
   "execution_count": 3,
   "metadata": {},
   "outputs": [
    {
     "name": "stdout",
     "output_type": "stream",
     "text": [
      "<class 'pandas.core.frame.DataFrame'>\n",
      "RangeIndex: 14976 entries, 0 to 14975\n",
      "Data columns (total 7 columns):\n",
      " #   Column  Non-Null Count  Dtype \n",
      "---  ------  --------------  ----- \n",
      " 0   Date    14976 non-null  object\n",
      " 1   Open    14976 non-null  object\n",
      " 2   High    14976 non-null  object\n",
      " 3   Low     14976 non-null  object\n",
      " 4   Close   14976 non-null  object\n",
      " 5   Volume  14976 non-null  object\n",
      " 6   Symbol  14976 non-null  object\n",
      "dtypes: object(7)\n",
      "memory usage: 819.1+ KB\n",
      "None\n"
     ]
    }
   ],
   "source": [
    "print(all_stock_data.info())"
   ]
  },
  {
   "cell_type": "code",
   "execution_count": 17,
   "metadata": {},
   "outputs": [
    {
     "name": "stdout",
     "output_type": "stream",
     "text": [
      "             Date      Open      High       Low     Close     Volume Symbol\n",
      "0      2024-10-25  229.7400  233.2200  229.5700  231.4100   38802304   AAPL\n",
      "6287   2024-10-25  163.6700  165.5900  163.4200  165.2700   19828884  GOOGL\n",
      "11369  2024-10-25  256.0100  269.4900  255.3200  269.1900  161611931   TSLA\n"
     ]
    }
   ],
   "source": [
    "import pandas as pd\n",
    "\n",
    "# Set pandas display options\n",
    "pd.set_option('display.max_columns', None)  # Show all columns\n",
    "pd.set_option('display.width', 1000)        # Set the width of the display\n",
    "pd.set_option('display.float_format', '{:,.2f}'.format)  # Format floats to 2 decimal places\n",
    "# Print unique rows based on the 'Symbol' column\n",
    "unique_stock_data = all_stock_data.drop_duplicates(subset='Symbol')\n",
    "print(unique_stock_data)"
   ]
  },
  {
   "cell_type": "code",
   "execution_count": 5,
   "metadata": {},
   "outputs": [
    {
     "name": "stdout",
     "output_type": "stream",
     "text": [
      "  Symbol     AssetType                  Name  \\\n",
      "0   AAPL  Common Stock             Apple Inc   \n",
      "1  GOOGL  Common Stock  Alphabet Inc Class A   \n",
      "2   TSLA  Common Stock             Tesla Inc   \n",
      "\n",
      "                                         Description      CIK Exchange  \\\n",
      "0  Apple Inc. is an American multinational techno...   320193   NASDAQ   \n",
      "1  Alphabet Inc. is an American multinational con...  1652044   NASDAQ   \n",
      "2  Tesla, Inc. is an American electric vehicle an...  1318605   NASDAQ   \n",
      "\n",
      "  Currency Country         Sector  \\\n",
      "0      USD     USA     TECHNOLOGY   \n",
      "1      USD     USA     TECHNOLOGY   \n",
      "2      USD     USA  MANUFACTURING   \n",
      "\n",
      "                                            Industry  ... EVToRevenue  \\\n",
      "0                               ELECTRONIC COMPUTERS  ...        9.23   \n",
      "1  SERVICES-COMPUTER PROGRAMMING, DATA PROCESSING...  ...        5.91   \n",
      "2              MOTOR VEHICLES & PASSENGER CAR BODIES  ...        8.68   \n",
      "\n",
      "  EVToEBITDA   Beta 52WeekHigh 52WeekLow 50DayMovingAverage  \\\n",
      "0      26.33  1.239     237.49    163.67              226.8   \n",
      "1      16.81  1.038      191.5    122.38             161.94   \n",
      "2      60.95  2.297        271     138.8             230.57   \n",
      "\n",
      "  200DayMovingAverage SharesOutstanding DividendDate ExDividendDate  \n",
      "0              201.05       15204100000   2024-08-15     2024-08-12  \n",
      "1              161.16        5859000000   2024-09-16     2024-09-09  \n",
      "2              201.57        3210060000         None           None  \n",
      "\n",
      "[3 rows x 52 columns]\n"
     ]
    }
   ],
   "source": [
    "# Initialize a list to store company overview data\n",
    "company_overview_list = []\n",
    "\n",
    "# Loop through each stock symbol to fetch data\n",
    "for symbol in stock_symbols:\n",
    "    url = f'https://www.alphavantage.co/query?function=OVERVIEW&symbol={symbol}&apikey={api_key}'\n",
    "    \n",
    "    # Make the API call\n",
    "    response = requests.get(url)\n",
    "    data = response.json()\n",
    "    \n",
    "    # Check if the response contains the expected data\n",
    "    if 'Symbol' in data:\n",
    "        company_overview_list.append(data)\n",
    "\n",
    "# Convert the list to a DataFrame\n",
    "company_overview_data = pd.DataFrame(company_overview_list)\n",
    "\n",
    "# Display the combined DataFrame\n",
    "print(company_overview_data.head())"
   ]
  },
  {
   "cell_type": "code",
   "execution_count": 6,
   "metadata": {},
   "outputs": [
    {
     "name": "stdout",
     "output_type": "stream",
     "text": [
      "<class 'pandas.core.frame.DataFrame'>\n",
      "RangeIndex: 3 entries, 0 to 2\n",
      "Data columns (total 52 columns):\n",
      " #   Column                      Non-Null Count  Dtype \n",
      "---  ------                      --------------  ----- \n",
      " 0   Symbol                      3 non-null      object\n",
      " 1   AssetType                   3 non-null      object\n",
      " 2   Name                        3 non-null      object\n",
      " 3   Description                 3 non-null      object\n",
      " 4   CIK                         3 non-null      object\n",
      " 5   Exchange                    3 non-null      object\n",
      " 6   Currency                    3 non-null      object\n",
      " 7   Country                     3 non-null      object\n",
      " 8   Sector                      3 non-null      object\n",
      " 9   Industry                    3 non-null      object\n",
      " 10  Address                     3 non-null      object\n",
      " 11  OfficialSite                3 non-null      object\n",
      " 12  FiscalYearEnd               3 non-null      object\n",
      " 13  LatestQuarter               3 non-null      object\n",
      " 14  MarketCapitalization        3 non-null      object\n",
      " 15  EBITDA                      3 non-null      object\n",
      " 16  PERatio                     3 non-null      object\n",
      " 17  PEGRatio                    3 non-null      object\n",
      " 18  BookValue                   3 non-null      object\n",
      " 19  DividendPerShare            3 non-null      object\n",
      " 20  DividendYield               3 non-null      object\n",
      " 21  EPS                         3 non-null      object\n",
      " 22  RevenuePerShareTTM          3 non-null      object\n",
      " 23  ProfitMargin                3 non-null      object\n",
      " 24  OperatingMarginTTM          3 non-null      object\n",
      " 25  ReturnOnAssetsTTM           3 non-null      object\n",
      " 26  ReturnOnEquityTTM           3 non-null      object\n",
      " 27  RevenueTTM                  3 non-null      object\n",
      " 28  GrossProfitTTM              3 non-null      object\n",
      " 29  DilutedEPSTTM               3 non-null      object\n",
      " 30  QuarterlyEarningsGrowthYOY  3 non-null      object\n",
      " 31  QuarterlyRevenueGrowthYOY   3 non-null      object\n",
      " 32  AnalystTargetPrice          3 non-null      object\n",
      " 33  AnalystRatingStrongBuy      3 non-null      object\n",
      " 34  AnalystRatingBuy            3 non-null      object\n",
      " 35  AnalystRatingHold           3 non-null      object\n",
      " 36  AnalystRatingSell           3 non-null      object\n",
      " 37  AnalystRatingStrongSell     3 non-null      object\n",
      " 38  TrailingPE                  3 non-null      object\n",
      " 39  ForwardPE                   3 non-null      object\n",
      " 40  PriceToSalesRatioTTM        3 non-null      object\n",
      " 41  PriceToBookRatio            3 non-null      object\n",
      " 42  EVToRevenue                 3 non-null      object\n",
      " 43  EVToEBITDA                  3 non-null      object\n",
      " 44  Beta                        3 non-null      object\n",
      " 45  52WeekHigh                  3 non-null      object\n",
      " 46  52WeekLow                   3 non-null      object\n",
      " 47  50DayMovingAverage          3 non-null      object\n",
      " 48  200DayMovingAverage         3 non-null      object\n",
      " 49  SharesOutstanding           3 non-null      object\n",
      " 50  DividendDate                3 non-null      object\n",
      " 51  ExDividendDate              3 non-null      object\n",
      "dtypes: object(52)\n",
      "memory usage: 1.3+ KB\n",
      "None\n"
     ]
    }
   ],
   "source": [
    "print(company_overview_data.info())"
   ]
  },
  {
   "cell_type": "code",
   "execution_count": 11,
   "metadata": {},
   "outputs": [
    {
     "name": "stdout",
     "output_type": "stream",
     "text": [
      "  Symbol                  Name         Sector MarketCapitalization        EBITDA   EPS ProfitMargin\n",
      "0   AAPL             Apple Inc     TECHNOLOGY        3518380900000  131781001000  6.57        0.264\n",
      "1  GOOGL  Alphabet Inc Class A     TECHNOLOGY        2013319135000  115478004000  6.97        0.267\n",
      "2   TSLA             Tesla Inc  MANUFACTURING         864116081000   13244000000  3.66        0.131\n"
     ]
    }
   ],
   "source": [
    "import pandas as pd\n",
    "\n",
    "# Set pandas display options\n",
    "pd.set_option('display.max_columns', None)  # Show all columns\n",
    "pd.set_option('display.width', 1000)        # Set the width of the display\n",
    "pd.set_option('display.float_format', '{:,.2f}'.format)  # Format floats to 2 decimal places\n",
    "print(company_overview_data.loc[0:5, ['Symbol','Name','Sector','MarketCapitalization','EBITDA','EPS','ProfitMargin']])"
   ]
  }
 ],
 "metadata": {
  "kernelspec": {
   "display_name": "Python 3",
   "language": "python",
   "name": "python3"
  },
  "language_info": {
   "codemirror_mode": {
    "name": "ipython",
    "version": 3
   },
   "file_extension": ".py",
   "mimetype": "text/x-python",
   "name": "python",
   "nbconvert_exporter": "python",
   "pygments_lexer": "ipython3",
   "version": "3.12.7"
  }
 },
 "nbformat": 4,
 "nbformat_minor": 2
}
