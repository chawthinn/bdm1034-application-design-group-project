{
 "cells": [
  {
   "cell_type": "markdown",
   "id": "8d581edc-5ffb-4e9e-aa7a-01dbce9c8576",
   "metadata": {},
   "source": [
    "# what will you buy if you can go back 5 years ago"
   ]
  },
  {
   "cell_type": "code",
   "execution_count": 2,
   "id": "701ae370-7c0f-45f9-acea-dc33c2a69e00",
   "metadata": {},
   "outputs": [
    {
     "name": "stdout",
     "output_type": "stream",
     "text": [
      "<class 'pandas.core.frame.DataFrame'>\n",
      "RangeIndex: 503 entries, 0 to 502\n",
      "Data columns (total 16 columns):\n",
      " #   Column               Non-Null Count  Dtype  \n",
      "---  ------               --------------  -----  \n",
      " 0   Exchange             503 non-null    object \n",
      " 1   Symbol               503 non-null    object \n",
      " 2   Shortname            503 non-null    object \n",
      " 3   Longname             503 non-null    object \n",
      " 4   Sector               503 non-null    object \n",
      " 5   Industry             503 non-null    object \n",
      " 6   Currentprice         503 non-null    float64\n",
      " 7   Marketcap            503 non-null    int64  \n",
      " 8   Ebitda               474 non-null    float64\n",
      " 9   Revenuegrowth        502 non-null    float64\n",
      " 10  City                 503 non-null    object \n",
      " 11  State                483 non-null    object \n",
      " 12  Country              503 non-null    object \n",
      " 13  Fulltimeemployees    497 non-null    float64\n",
      " 14  Longbusinesssummary  503 non-null    object \n",
      " 15  Weight               503 non-null    float64\n",
      "dtypes: float64(5), int64(1), object(10)\n",
      "memory usage: 63.0+ KB\n",
      "None\n",
      "<class 'pandas.core.frame.DataFrame'>\n",
      "RangeIndex: 2517 entries, 0 to 2516\n",
      "Data columns (total 2 columns):\n",
      " #   Column  Non-Null Count  Dtype  \n",
      "---  ------  --------------  -----  \n",
      " 0   Date    2517 non-null   object \n",
      " 1   S&P500  2517 non-null   float64\n",
      "dtypes: float64(1), object(1)\n",
      "memory usage: 39.5+ KB\n",
      "None\n",
      "<class 'pandas.core.frame.DataFrame'>\n",
      "RangeIndex: 1873172 entries, 0 to 1873171\n",
      "Data columns (total 8 columns):\n",
      " #   Column     Dtype  \n",
      "---  ------     -----  \n",
      " 0   Date       object \n",
      " 1   Symbol     object \n",
      " 2   Adj Close  float64\n",
      " 3   Close      float64\n",
      " 4   High       float64\n",
      " 5   Low        float64\n",
      " 6   Open       float64\n",
      " 7   Volume     float64\n",
      "dtypes: float64(6), object(2)\n",
      "memory usage: 114.3+ MB\n",
      "None\n"
     ]
    }
   ],
   "source": [
    "import pandas as pd\n",
    "\n",
    "sp500_companies = pd.read_csv('sp500_companies.csv')\n",
    "sp500_index = pd.read_csv('sp500_index.csv')\n",
    "sp500_stocks = pd.read_csv('sp500_stocks.csv')\n",
    "\n",
    "print(sp500_companies.info())\n",
    "print(sp500_index.info())\n",
    "print(sp500_stocks.info())"
   ]
  },
  {
   "cell_type": "code",
   "execution_count": 5,
   "id": "57fde3b9-e4f2-416b-b82e-6beec89fb26f",
   "metadata": {},
   "outputs": [],
   "source": [
    "# Convert date columns to datetime format for accurate merging\n",
    "sp500_stocks['Date'] = pd.to_datetime(sp500_stocks['Date'])\n",
    "sp500_index['Date'] = pd.to_datetime(sp500_index['Date'])"
   ]
  },
  {
   "cell_type": "code",
   "execution_count": 6,
   "id": "243d7b6b-aaa2-4a40-8fe6-9916377e852f",
   "metadata": {},
   "outputs": [
    {
     "name": "stdout",
     "output_type": "stream",
     "text": [
      "<class 'pandas.core.frame.DataFrame'>\n",
      "RangeIndex: 1873172 entries, 0 to 1873171\n",
      "Data columns (total 23 columns):\n",
      " #   Column               Dtype         \n",
      "---  ------               -----         \n",
      " 0   Date                 datetime64[ns]\n",
      " 1   Symbol               object        \n",
      " 2   Adj Close            float64       \n",
      " 3   Close                float64       \n",
      " 4   High                 float64       \n",
      " 5   Low                  float64       \n",
      " 6   Open                 float64       \n",
      " 7   Volume               float64       \n",
      " 8   Exchange             object        \n",
      " 9   Shortname            object        \n",
      " 10  Longname             object        \n",
      " 11  Sector               object        \n",
      " 12  Industry             object        \n",
      " 13  Currentprice         float64       \n",
      " 14  Marketcap            int64         \n",
      " 15  Ebitda               float64       \n",
      " 16  Revenuegrowth        float64       \n",
      " 17  City                 object        \n",
      " 18  State                object        \n",
      " 19  Country              object        \n",
      " 20  Fulltimeemployees    float64       \n",
      " 21  Longbusinesssummary  object        \n",
      " 22  Weight               float64       \n",
      "dtypes: datetime64[ns](1), float64(11), int64(1), object(10)\n",
      "memory usage: 328.7+ MB\n",
      "None\n"
     ]
    }
   ],
   "source": [
    "# Merge stock prices with fundamentals based on 'Symbol'\n",
    "sp500_combined = pd.merge(\n",
    "    sp500_stocks,  # Third DataFrame with stock price data\n",
    "    sp500_companies,  # First DataFrame with company fundamentals\n",
    "    on='Symbol', \n",
    "    how='left'\n",
    ")\n",
    "\n",
    "print(sp500_combined.info())"
   ]
  },
  {
   "cell_type": "code",
   "execution_count": 7,
   "id": "ae5368ed-f1d6-4429-8404-a48fac6cb387",
   "metadata": {},
   "outputs": [
    {
     "name": "stdout",
     "output_type": "stream",
     "text": [
      "<class 'pandas.core.frame.DataFrame'>\n",
      "RangeIndex: 1873172 entries, 0 to 1873171\n",
      "Data columns (total 24 columns):\n",
      " #   Column               Dtype         \n",
      "---  ------               -----         \n",
      " 0   Date                 datetime64[ns]\n",
      " 1   Symbol               object        \n",
      " 2   Adj Close            float64       \n",
      " 3   Close                float64       \n",
      " 4   High                 float64       \n",
      " 5   Low                  float64       \n",
      " 6   Open                 float64       \n",
      " 7   Volume               float64       \n",
      " 8   Exchange             object        \n",
      " 9   Shortname            object        \n",
      " 10  Longname             object        \n",
      " 11  Sector               object        \n",
      " 12  Industry             object        \n",
      " 13  Currentprice         float64       \n",
      " 14  Marketcap            int64         \n",
      " 15  Ebitda               float64       \n",
      " 16  Revenuegrowth        float64       \n",
      " 17  City                 object        \n",
      " 18  State                object        \n",
      " 19  Country              object        \n",
      " 20  Fulltimeemployees    float64       \n",
      " 21  Longbusinesssummary  object        \n",
      " 22  Weight               float64       \n",
      " 23  S&P500               float64       \n",
      "dtypes: datetime64[ns](1), float64(12), int64(1), object(10)\n",
      "memory usage: 343.0+ MB\n",
      "None\n"
     ]
    }
   ],
   "source": [
    "# Convert date columns to datetime format for merging\n",
    "sp500_index['Date'] = pd.to_datetime(sp500_index['Date'])\n",
    "sp500_combined['Date'] = pd.to_datetime(sp500_combined['Date'])\n",
    "\n",
    "# Merge stock prices with S&P 500 index data based on 'Date'\n",
    "sp500_full = pd.merge(\n",
    "    sp500_combined,\n",
    "    sp500_index,\n",
    "    on='Date',\n",
    "    how='left'\n",
    ")\n",
    "\n",
    "print(sp500_full.info())"
   ]
  },
  {
   "cell_type": "code",
   "execution_count": 16,
   "id": "9bcca3f6-7daf-4708-99a2-16752c328361",
   "metadata": {},
   "outputs": [
    {
     "name": "stdout",
     "output_type": "stream",
     "text": [
      "102129\n"
     ]
    }
   ],
   "source": [
    "import numpy as np\n",
    "import cvxpy as cp\n",
    "\n",
    "# Calculate daily returns for individual stocks\n",
    "sp500_full['Daily_Return'] = sp500_full.groupby('Symbol')['Close'].pct_change(fill_method=None)\n",
    "\n",
    "# Display rows with valid daily returns\n",
    "print(sp500_full['Daily_Return'].isna().sum())"
   ]
  },
  {
   "cell_type": "code",
   "execution_count": 25,
   "id": "989153be-4739-4f16-8f92-5e38da39b5a2",
   "metadata": {},
   "outputs": [],
   "source": [
    "# Filter out NaN values\n",
    "df_returns = sp500_full[['Symbol', 'Date', 'Daily_Return']].dropna()"
   ]
  },
  {
   "cell_type": "code",
   "execution_count": 26,
   "id": "0a126780-88ce-4c33-9411-6fda76a4acf4",
   "metadata": {},
   "outputs": [],
   "source": [
    "# Calculate mean returns and covariance matrix\n",
    "mean_returns = df_returns.groupby('Symbol')['Daily_Return'].mean()\n",
    "\n",
    "# Add stronger regularization to the diagonal\n",
    "cov_matrix += np.eye(cov_matrix.shape[0]) * 1e-2"
   ]
  },
  {
   "cell_type": "code",
   "execution_count": 27,
   "id": "fa2e673c-ac51-4626-b91e-51b8efd0e6b6",
   "metadata": {},
   "outputs": [],
   "source": [
    "# Define variables for optimization\n",
    "num_assets = len(mean_returns)\n",
    "weights = cp.Variable(num_assets)\n",
    "risk_tolerance = 0.5  # Adjustable based on user input"
   ]
  },
  {
   "cell_type": "code",
   "execution_count": 28,
   "id": "2b417951-a295-40f1-9291-20546497f2b7",
   "metadata": {},
   "outputs": [],
   "source": [
    "# Define the portfolio return and risk\n",
    "portfolio_return = mean_returns.values @ weights\n",
    "portfolio_risk = cp.quad_form(weights, cov_matrix.values)"
   ]
  },
  {
   "cell_type": "code",
   "execution_count": 29,
   "id": "e92a5330-2128-4f05-a6b3-aa9b7738abab",
   "metadata": {},
   "outputs": [],
   "source": [
    "# Define the optimization problem\n",
    "problem = cp.Problem(\n",
    "    cp.Maximize(portfolio_return - risk_tolerance * portfolio_risk),\n",
    "    [cp.sum(weights) == 1, weights >= 0]\n",
    ")"
   ]
  },
  {
   "cell_type": "code",
   "execution_count": 30,
   "id": "6fcbe7bd-f2f6-43e7-8d28-8d675edef6e8",
   "metadata": {},
   "outputs": [
    {
     "name": "stdout",
     "output_type": "stream",
     "text": [
      "Number of zero rows: 0, Number of zero columns: 0\n"
     ]
    }
   ],
   "source": [
    "# Check for all-zero rows/columns\n",
    "zero_rows = (cov_matrix.sum(axis=1) == 0).sum()\n",
    "zero_cols = (cov_matrix.sum(axis=0) == 0).sum()\n",
    "\n",
    "print(f\"Number of zero rows: {zero_rows}, Number of zero columns: {zero_cols}\")\n"
   ]
  },
  {
   "cell_type": "code",
   "execution_count": 31,
   "id": "37a01092-ad6e-4e1d-9056-275cc0037257",
   "metadata": {},
   "outputs": [
    {
     "name": "stdout",
     "output_type": "stream",
     "text": [
      "Optimal Portfolio Weights: Symbol\n",
      "A      -1.417697e-21\n",
      "AAPL   -1.254886e-21\n",
      "ABBV   -1.370311e-21\n",
      "ABNB   -9.542727e-22\n",
      "ABT    -1.302443e-21\n",
      "            ...     \n",
      "XYL    -1.345258e-21\n",
      "YUM    -1.390762e-21\n",
      "ZBH    -1.394356e-21\n",
      "ZBRA   -1.360080e-21\n",
      "ZTS    -1.330089e-21\n",
      "Length: 503, dtype: float64\n"
     ]
    }
   ],
   "source": [
    "from scipy.linalg import eigh\n",
    "\n",
    "def nearest_psd(matrix):\n",
    "    \"\"\"Convert a covariance matrix to the nearest positive semi-definite matrix.\"\"\"\n",
    "    # Eigenvalue decomposition\n",
    "    eigenvalues, eigenvectors = eigh(matrix)\n",
    "    \n",
    "    # Set negative eigenvalues to zero\n",
    "    eigenvalues[eigenvalues < 0] = 0\n",
    "    \n",
    "    # Reconstruct the matrix\n",
    "    psd_matrix = eigenvectors @ np.diag(eigenvalues) @ eigenvectors.T\n",
    "    return psd_matrix\n",
    "\n",
    "# Apply nearest positive semi-definite transformation\n",
    "cov_matrix = nearest_psd(cov_matrix)\n",
    "\n",
    "# Define the optimization problem again\n",
    "portfolio_risk = cp.quad_form(weights, cov_matrix)\n",
    "\n",
    "problem = cp.Problem(\n",
    "    cp.Maximize(portfolio_return - risk_tolerance * portfolio_risk),\n",
    "    [cp.sum(weights) == 1, weights >= 0]\n",
    ")\n",
    "\n",
    "# Solve the problem\n",
    "problem.solve()\n",
    "\n",
    "# Get optimal weights\n",
    "optimal_weights = pd.Series(weights.value, index=mean_returns.index)\n",
    "print(\"Optimal Portfolio Weights:\", optimal_weights)"
   ]
  },
  {
   "cell_type": "code",
   "execution_count": 38,
   "id": "dc066ca3-9ba1-41b5-a299-e9d6b98837c0",
   "metadata": {},
   "outputs": [
    {
     "name": "stdout",
     "output_type": "stream",
     "text": [
      "Optimal Portfolio Weights: Symbol\n",
      "A       8.029814e-18\n",
      "AAPL    0.000000e+00\n",
      "ABBV    0.000000e+00\n",
      "ABNB    2.137832e-18\n",
      "ABT     8.565970e-18\n",
      "            ...     \n",
      "XYL     0.000000e+00\n",
      "YUM     2.874096e-18\n",
      "ZBH     4.533162e-18\n",
      "ZBRA    0.000000e+00\n",
      "ZTS     0.000000e+00\n",
      "Length: 503, dtype: float64\n"
     ]
    }
   ],
   "source": [
    "import numpy as np\n",
    "import pandas as pd\n",
    "from scipy.optimize import minimize\n",
    "\n",
    "# Define the objective function for portfolio optimization\n",
    "def objective_function(weights):\n",
    "    port_return = np.dot(mean_returns.values, weights)\n",
    "    port_risk = np.dot(weights.T, np.dot(cov_matrix, weights))\n",
    "    return -1 * (port_return - 0.5 * port_risk)\n",
    "\n",
    "# Initial weights\n",
    "num_assets = len(mean_returns)\n",
    "init_weights = np.ones(num_assets) / num_assets  # Equally distributed weights\n",
    "\n",
    "# Constraints: sum of weights = 1 and weights >= 0\n",
    "constraints = [\n",
    "    {'type': 'eq', 'fun': lambda x: np.sum(x) - 1},  # Weights must sum to 1\n",
    "    {'type': 'ineq', 'fun': lambda x: x}  # Weights must be >= 0\n",
    "]\n",
    "\n",
    "# Bounds for weights (between 0 and 1)\n",
    "bounds = [(0, 1) for _ in range(num_assets)]\n",
    "\n",
    "# Solve using SciPy's minimize\n",
    "result = minimize(objective_function, init_weights, bounds=bounds, constraints=constraints)\n",
    "\n",
    "# Get optimized weights\n",
    "optimal_weights = pd.Series(result.x, index=mean_returns.index)\n",
    "print(\"Optimal Portfolio Weights:\", optimal_weights)"
   ]
  },
  {
   "cell_type": "code",
   "execution_count": 39,
   "id": "74e8583b-b2a7-49ab-87d7-83a7ca67c61d",
   "metadata": {},
   "outputs": [],
   "source": [
    "# Define a higher risk tolerance\n",
    "risk_tolerance = 5.0  # Adjust to be more aggressive\n",
    "\n",
    "# Redefine the objective function and solve again\n",
    "def objective_function(weights):\n",
    "    port_return = np.dot(mean_returns.values, weights)\n",
    "    port_risk = np.dot(weights.T, np.dot(cov_matrix, weights))\n",
    "    return -1 * (port_return - risk_tolerance * port_risk)"
   ]
  },
  {
   "cell_type": "code",
   "execution_count": 40,
   "id": "db1a2a28-c9f8-473a-91c6-170900b73540",
   "metadata": {},
   "outputs": [],
   "source": [
    "# Standardize the mean returns\n",
    "mean_returns = (mean_returns - mean_returns.min()) / (mean_returns.max() - mean_returns.min())\n",
    "\n",
    "# Normalize the covariance matrix\n",
    "cov_matrix = (cov_matrix - cov_matrix.min().min()) / (cov_matrix.max().max() - cov_matrix.min().min())\n"
   ]
  },
  {
   "cell_type": "code",
   "execution_count": 41,
   "id": "8316a5e7-8d41-46ec-84f3-8f5135785da3",
   "metadata": {},
   "outputs": [],
   "source": [
    "min_weight = 0.01  # Minimum allocation of 1%\n",
    "\n",
    "constraints = [\n",
    "    {'type': 'eq', 'fun': lambda x: np.sum(x) - 1},  # Weights must sum to 1\n",
    "    {'type': 'ineq', 'fun': lambda x: x - min_weight}  # Weights must be >= min_weight\n",
    "]\n"
   ]
  },
  {
   "cell_type": "code",
   "execution_count": 42,
   "id": "3884478d-a7a2-42fc-991a-ca308c5f2bfc",
   "metadata": {},
   "outputs": [],
   "source": [
    "bounds = [(-0.1, 1) for _ in range(num_assets)]  # Allow up to 10% short-selling\n"
   ]
  },
  {
   "cell_type": "code",
   "execution_count": 43,
   "id": "f9b29c1b-2ca5-4c9f-9f98-91ae0980e206",
   "metadata": {},
   "outputs": [
    {
     "name": "stdout",
     "output_type": "stream",
     "text": [
      "Optimal Portfolio Weights: Symbol\n",
      "A       0.001988\n",
      "AAPL    0.001988\n",
      "ABBV    0.001988\n",
      "ABNB    0.001988\n",
      "ABT     0.001988\n",
      "          ...   \n",
      "XYL     0.001988\n",
      "YUM     0.001988\n",
      "ZBH     0.001988\n",
      "ZBRA    0.001988\n",
      "ZTS     0.001988\n",
      "Length: 503, dtype: float64\n"
     ]
    }
   ],
   "source": [
    "from scipy.optimize import minimize\n",
    "\n",
    "# Define the modified objective function\n",
    "def modified_objective_function(weights):\n",
    "    port_return = np.dot(mean_returns.values, weights)\n",
    "    port_risk = np.dot(weights.T, np.dot(cov_matrix, weights))\n",
    "    return -1 * (port_return - risk_tolerance * port_risk)\n",
    "\n",
    "# Solve the optimization again\n",
    "result = minimize(modified_objective_function, init_weights, bounds=bounds, constraints=constraints)\n",
    "\n",
    "# Get new optimal weights\n",
    "optimal_weights = pd.Series(result.x, index=mean_returns.index)\n",
    "print(\"Optimal Portfolio Weights:\", optimal_weights)\n"
   ]
  },
  {
   "cell_type": "code",
   "execution_count": null,
   "id": "1b25a61e-31f0-4cac-adcb-05825d759570",
   "metadata": {},
   "outputs": [],
   "source": []
  }
 ],
 "metadata": {
  "kernelspec": {
   "display_name": "Python 3 (ipykernel)",
   "language": "python",
   "name": "python3"
  },
  "language_info": {
   "codemirror_mode": {
    "name": "ipython",
    "version": 3
   },
   "file_extension": ".py",
   "mimetype": "text/x-python",
   "name": "python",
   "nbconvert_exporter": "python",
   "pygments_lexer": "ipython3",
   "version": "3.12.7"
  }
 },
 "nbformat": 4,
 "nbformat_minor": 5
}
